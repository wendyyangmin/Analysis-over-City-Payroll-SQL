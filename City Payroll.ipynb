{
 "cells": [
  {
   "cell_type": "markdown",
   "metadata": {},
   "source": [
    "# ISTM 6212 - Goup Project 04 \n",
    "Group members: \n",
    "* Jiaru Xu\n",
    "* Min Yang \n",
    "* Jiaying Liu\n",
    "* Congying Ma\n"
   ]
  },
  {
   "cell_type": "markdown",
   "metadata": {},
   "source": [
    "# Part 1 - Selection (30 points)\n",
    "\n",
    "Identify and describe your dataset, its source, and what appeals to you about it. Acquire the data and perform an initial exploration to determine which themes you wish to explore. Describe the questions you want to be able to answer with the data, any concerns you have about the data, and any challenges you expect to have to overcome."
   ]
  },
  {
   "cell_type": "markdown",
   "metadata": {},
   "source": [
    "## What dataset do we choose?"
   ]
  },
  {
   "cell_type": "markdown",
   "metadata": {},
   "source": [
    "We get our dataset from the website https://controllerdata.lacity.org/Payroll/City-Employee-Payroll/pazn-qyym through the website provided by professor http://us-cities.survey.okfn.org.  Our dataset records all Los Angeles City employees’ payrolls from 2013 to 2018. The original dataset contains 370k records and 35 columns. It has a good mix of quantitative and qualitative variable for us to analyze.  We are specifically interested in this dataset because it includes quarterly payment and has a good deviation of columns such as base pay, permanent bonus pay, and overtime pay that we can build an analysis on how these extra payments affect the total payment, and if we can draw a job type characteristics from this analysis. The year column would also allow us to make a timeline analysis, so this dataset provides a good amount of information and large enough data for us to analyze from several perspectives. "
   ]
  },
  {
   "cell_type": "markdown",
   "metadata": {},
   "source": [
    "## What topic we wish to explore?"
   ]
  },
  {
   "cell_type": "markdown",
   "metadata": {},
   "source": [
    "Since this is a dataset about city employee payroll, our major variable will be the payment. We want to explore the character of payment.  We come up with two focuses, first, we want to explore the relationship between payment and year, payment and department, and payment and job title. From there, we can break down to a specific department and if there is a unique pattern of payment for a certain department. The other focus is we are interested in finding if there is a seasonality pattern in the quarterly payment. Since most of the departments are service-based, such as Fire department and Police department, we are specifically interested in seeing if there is a difference in their payment from different quarters. \n",
    "\n"
   ]
  },
  {
   "cell_type": "markdown",
   "metadata": {},
   "source": [
    "## What questions are we going to answer?"
   ]
  },
  {
   "cell_type": "markdown",
   "metadata": {},
   "source": [
    "For our first focus, we want to answer the following questions: \n",
    "1.    There should be a slowly increasing in salary over years due to inflation and living expense increase, but there might also not change a lot due to increasing demand. Does year really have an effect on salary?\n",
    "2.    What are the departments with the highest average total payment and if there is something in common through these departments? The most common city employees we know for daily are fireman and policeman, since they are service-based job, we think they probably have higher payments.\n",
    "3.    We know that total payment is generated from base pay, overtime pay, permanent bonus pay, etc., we want to see if these bonus pays will make a difference in total pay?\n",
    "4.    We predict that job title has an impact on salary, as people with higher positions will have a higher pay, but is there a big difference between different departments? We would want to make a comparison here.\n",
    "5.    Our dataset also contains employment type, we should get a conclusion that full-time gets to pay most, but we probably would find some interesting thing if we categorize each employment type and the group of departments appears to have the highest pay might be different.\n",
    "\n",
    "For our second focus, we want to answer the following questions:\n",
    "1.    We want to see if there is a difference in quarterly payment. We predict that for different department, there is a different pattern due to the department characteristics. \n",
    "2.    Second, for different positions in some specific department, we wonder if there is also a pattern over how employees are rewarded through the years in different quarters. We predict that in different quarters of the year, there exists some variation in the pattern due to the seasonality and the feature of a specific department.\n",
    "3.    Third, if we find out some seasonal difference after the previous step, we would like to explore further into the reason behind and find out how the variation differs among various positions in the same department and how large the variation is. \n"
   ]
  },
  {
   "cell_type": "markdown",
   "metadata": {},
   "source": [
    "## Some concerns we have about the data"
   ]
  },
  {
   "cell_type": "markdown",
   "metadata": {},
   "source": [
    "The dataset only contains payment, so we are lack on the employee’s personal information, such as age, gender, and years of service. With these extra columns, when we analyze some questions listed above, we probably could get a more precise explanation/reason of why certain pattern occurs. And it would also be interesting to see if same job title’s payment would be different with individual differences. \n",
    "Since q4 of 2018 is not recorded yet, it might have some impact when we analyze on years and quarterly, so we would want to treat it carefully when we come to these analyses, probably just exclude this year. "
   ]
  },
  {
   "cell_type": "markdown",
   "metadata": {},
   "source": [
    "## Challenges we expect to have to overcome."
   ]
  },
  {
   "cell_type": "markdown",
   "metadata": {},
   "source": [
    "One concern would be if we could not find there are differences, we would need to find a new dataset. \n",
    "Since our dataset has a lot of columns, and none of us are familiar to payroll, we probably will have a hard time when wrangling the dataset, to narrow down the columns we want to analyze, and if there appears to have a lot missing data in one column which might affect our analysis. For a better understanding of certain departments that appear in our rank and we don’t know, we get our department information from https://www.lacity.org/your-government/departments-commissions/departments-bureaus. \n",
    "\n",
    "Extra: Further analysis would require more information, it would be helpful if we can get the quarterly overtime pay which would probably strengthen the conclusion we made here. \n"
   ]
  },
  {
   "cell_type": "markdown",
   "metadata": {},
   "source": [
    "---"
   ]
  },
  {
   "cell_type": "markdown",
   "metadata": {},
   "source": [
    "### Take a first look at our original dataset"
   ]
  },
  {
   "cell_type": "code",
   "execution_count": 1,
   "metadata": {},
   "outputs": [
    {
     "name": "stdout",
     "output_type": "stream",
     "text": [
      "--2018-12-10 16:27:38--  https://controllerdata.lacity.org/api/views/pazn-qyym/rows.csv\n",
      "Resolving controllerdata.lacity.org (controllerdata.lacity.org)... 52.206.140.205, 52.206.140.199, 52.206.68.26\n",
      "Connecting to controllerdata.lacity.org (controllerdata.lacity.org)|52.206.140.205|:443... connected.\n",
      "HTTP request sent, awaiting response... 200 OK\n",
      "Length: unspecified [text/csv]\n",
      "Saving to: ‘City_Employee_Payroll.csv’\n",
      "\n",
      "City_Employee_Payro     [           <=>      ] 110.30M  50.9MB/s    in 2.2s    \n",
      "\n",
      "Last-modified header invalid -- time-stamp ignored.\n",
      "2018-12-10 16:27:41 (50.9 MB/s) - ‘City_Employee_Payroll.csv’ saved [115662426]\n",
      "\n"
     ]
    }
   ],
   "source": [
    "!wget -O City_Employee_Payroll.csv https://controllerdata.lacity.org/api/views/pazn-qyym/rows.csv"
   ]
  },
  {
   "cell_type": "markdown",
   "metadata": {},
   "source": [
    "With a dataset over 110M, in order to save time here, we only look at the first 1000 rows here about its statistical features."
   ]
  },
  {
   "cell_type": "code",
   "execution_count": 2,
   "metadata": {},
   "outputs": [
    {
     "name": "stdout",
     "output_type": "stream",
     "text": [
      "  1. \"Row ID\"\n",
      "\n",
      "\tType of data:          Text\n",
      "\tContains null values:  False\n",
      "\tUnique values:         999\n",
      "\tLongest value:         21 characters\n",
      "\tMost common values:    3-1000027830ctFu (1x)\n",
      "\t                       3-1000155488ctFu (1x)\n",
      "\t                       3-1000194958ctFu (1x)\n",
      "\t                       3-1000198958ctFu (1x)\n",
      "\t                       3-1000232317ctFu (1x)\n",
      "\n",
      "  2. \"Year\"\n",
      "\n",
      "\tType of data:          Number\n",
      "\tContains null values:  False\n",
      "\tUnique values:         1\n",
      "\tSmallest value:        2,013\n",
      "\tLargest value:         2,013\n",
      "\tSum:                   2,010,987\n",
      "\tMean:                  2,013\n",
      "\tMedian:                2,013\n",
      "\tStDev:                 0\n",
      "\tMost common values:    2,013 (999x)\n",
      "\n",
      "  3. \"Department Title\"\n",
      "\n",
      "\tType of data:          Text\n",
      "\tContains null values:  False\n",
      "\tUnique values:         40\n",
      "\tLongest value:         52 characters\n",
      "\tMost common values:    Police (LAPD) (231x)\n",
      "\t                       Water And Power (DWP) (181x)\n",
      "\t                       Recreation And Parks (124x)\n",
      "\t                       Airports (LAWA) (61x)\n",
      "\t                       Fire (LAFD) (59x)\n",
      "\n",
      "  4. \"Payroll Department\"\n",
      "\n",
      "\tType of data:          Number\n",
      "\tContains null values:  True (excluded from calculations)\n",
      "\tUnique values:         95\n",
      "\tSmallest value:        101\n",
      "\tLargest value:         8,702\n",
      "\tSum:                   3,721,669\n",
      "\tMean:                  4,549.718\n",
      "\tMedian:                4,301\n",
      "\tStDev:                 2,473.744\n",
      "\tMost common values:    4,301 (185x)\n",
      "\t                       None (181x)\n",
      "\t                       7,903 (96x)\n",
      "\t                       101 (61x)\n",
      "\t                       3,001 (55x)\n",
      "\n",
      "  5. \"Record Number\"\n",
      "\n",
      "\tType of data:          Number\n",
      "\tContains null values:  False\n",
      "\tUnique values:         979\n",
      "\tSmallest value:        10,007,663\n",
      "\tLargest value:         1,087,886,500\n",
      "\tSum:                   923,800,461,790\n",
      "\tMean:                  924,725,186.977\n",
      "\tMedian:                1,029,817,528\n",
      "\tStDev:                 300,703,860.742\n",
      "\tMost common values:    1,036,031,533 (3x)\n",
      "\t                       1,002,241,970 (2x)\n",
      "\t                       1,008,293,054 (2x)\n",
      "\t                       1,007,452,076 (2x)\n",
      "\t                       100,802,199 (2x)\n",
      "\n",
      "  6. \"Job Class Title\"\n",
      "\n",
      "\tType of data:          Text\n",
      "\tContains null values:  False\n",
      "\tUnique values:         323\n",
      "\tLongest value:         47 characters\n",
      "\tMost common values:    Police Officer II (80x)\n",
      "\t                       Police Officer III (37x)\n",
      "\t                       Recreation Assistant (31x)\n",
      "\t                       Firefighter III (27x)\n",
      "\t                       Clerk Typist (25x)\n",
      "\n",
      "  7. \"Employment Type\"\n",
      "\n",
      "\tType of data:          Text\n",
      "\tContains null values:  False\n",
      "\tUnique values:         3\n",
      "\tLongest value:         9 characters\n",
      "\tMost common values:    Full Time (815x)\n",
      "\t                       Part Time (183x)\n",
      "\t                       Per Event (1x)\n",
      "\n",
      "  8. \"Hourly or Event Rate\"\n",
      "\n",
      "\tType of data:          Number\n",
      "\tContains null values:  True (excluded from calculations)\n",
      "\tUnique values:         413\n",
      "\tSmallest value:        10.02\n",
      "\tLargest value:         119.91\n",
      "\tSum:                   29,378.25\n",
      "\tMean:                  35.915\n",
      "\tMedian:                35.61\n",
      "\tStDev:                 15.541\n",
      "\tMost common values:    None (181x)\n",
      "\t                       41.73 (21x)\n",
      "\t                       14.26 (17x)\n",
      "\t                       23.77 (15x)\n",
      "\t                       29.35 (15x)\n",
      "\n",
      "  9. \"Projected Annual Salary\"\n",
      "\n",
      "\tType of data:          Number\n",
      "\tContains null values:  False\n",
      "\tUnique values:         530\n",
      "\tSmallest value:        0\n",
      "\tLargest value:         250,372.08\n",
      "\tSum:                   78,394,050.16\n",
      "\tMean:                  78,472.523\n",
      "\tMedian:                78,069.28\n",
      "\tStDev:                 32,808.768\n",
      "\tMost common values:    87,132.24 (20x)\n",
      "\t                       29,774.88 (17x)\n",
      "\t                       70,386.48 (16x)\n",
      "\t                       49,623.67 (15x)\n",
      "\t                       61,273.14 (15x)\n",
      "\n",
      " 10. \"Q1 Payments\"\n",
      "\n",
      "\tType of data:          Number\n",
      "\tContains null values:  False\n",
      "\tUnique values:         884\n",
      "\tSmallest value:        0\n",
      "\tLargest value:         82,124.51\n",
      "\tSum:                   18,324,271.15\n",
      "\tMean:                  18,342.614\n",
      "\tMedian:                19,374.74\n",
      "\tStDev:                 11,884.651\n",
      "\tMost common values:    0 (67x)\n",
      "\t                       11,976.96 (6x)\n",
      "\t                       3,439.8 (5x)\n",
      "\t                       11,210.46 (5x)\n",
      "\t                       20,937.6 (4x)\n",
      "\n",
      " 11. \"Q2 Payments\"\n",
      "\n",
      "\tType of data:          Number\n",
      "\tContains null values:  False\n",
      "\tUnique values:         883\n",
      "\tSmallest value:        0\n",
      "\tLargest value:         87,907.3\n",
      "\tSum:                   20,694,805.39\n",
      "\tMean:                  20,715.521\n",
      "\tMedian:                22,300.6\n",
      "\tStDev:                 13,022.869\n",
      "\tMost common values:    0 (61x)\n",
      "\t                       3,925.6 (7x)\n",
      "\t                       24,427.2 (4x)\n",
      "\t                       16,151.45 (4x)\n",
      "\t                       27,904.8 (4x)\n",
      "\n",
      " 12. \"Q3 Payments\"\n",
      "\n",
      "\tType of data:          Number\n",
      "\tContains null values:  False\n",
      "\tUnique values:         895\n",
      "\tSmallest value:        0\n",
      "\tLargest value:         85,603.74\n",
      "\tSum:                   18,258,923.11\n",
      "\tMean:                  18,277.2\n",
      "\tMedian:                19,604.72\n",
      "\tStDev:                 11,464.527\n",
      "\tMost common values:    0 (56x)\n",
      "\t                       3,412.8 (7x)\n",
      "\t                       19,980.8 (6x)\n",
      "\t                       14,045.5 (6x)\n",
      "\t                       21,729.6 (5x)\n",
      "\n",
      " 13. \"Q4 Payments\"\n",
      "\n",
      "\tType of data:          Number\n",
      "\tContains null values:  False\n",
      "\tUnique values:         867\n",
      "\tSmallest value:        0\n",
      "\tLargest value:         101,473.37\n",
      "\tSum:                   20,963,209.43\n",
      "\tMean:                  20,984.194\n",
      "\tMedian:                23,128\n",
      "\tStDev:                 13,748.188\n",
      "\tMost common values:    0 (86x)\n",
      "\t                       23,368.8 (6x)\n",
      "\t                       3,992.8 (6x)\n",
      "\t                       25,536 (5x)\n",
      "\t                       14,045.5 (5x)\n",
      "\n",
      " 14. \"Payments Over Base Pay\"\n",
      "\n",
      "\tType of data:          Number\n",
      "\tContains null values:  False\n",
      "\tUnique values:         863\n",
      "\tSmallest value:        -2\n",
      "\tLargest value:         236,001.07\n",
      "\tSum:                   11,827,620.09\n",
      "\tMean:                  11,839.46\n",
      "\tMedian:                4,914.16\n",
      "\tStDev:                 18,963.969\n",
      "\tMost common values:    0 (115x)\n",
      "\t                       470.2 (4x)\n",
      "\t                       1,200 (4x)\n",
      "\t                       600 (4x)\n",
      "\t                       985 (3x)\n",
      "\n",
      " 15. \"% Over Base Pay\"\n",
      "\n",
      "\tType of data:          Number\n",
      "\tContains null values:  False\n",
      "\tUnique values:         6\n",
      "\tSmallest value:        0\n",
      "\tLargest value:         0.22\n",
      "\tSum:                   1.05\n",
      "\tMean:                  0.001\n",
      "\tMedian:                0\n",
      "\tStDev:                 0.008\n",
      "\tMost common values:    0 (928x)\n",
      "\t                       0.01 (63x)\n",
      "\t                       0.02 (4x)\n",
      "\t                       0.03 (2x)\n",
      "\t                       0.06 (1x)\n",
      "\n",
      " 16. \"Total Payments\"\n",
      "\n",
      "\tType of data:          Number\n",
      "\tContains null values:  False\n",
      "\tUnique values:         987\n",
      "\tSmallest value:        95.19\n",
      "\tLargest value:         351,641.68\n",
      "\tSum:                   78,241,209.08\n",
      "\tMean:                  78,319.529\n",
      "\tMedian:                83,651.12\n",
      "\tStDev:                 48,115.562\n",
      "\tMost common values:    14,771 (4x)\n",
      "\t                       92,630.4 (3x)\n",
      "\t                       19,077.76 (3x)\n",
      "\t                       19,677.76 (3x)\n",
      "\t                       112,126.4 (2x)\n",
      "\n",
      " 17. \"Base Pay\"\n",
      "\n",
      "\tType of data:          Number\n",
      "\tContains null values:  False\n",
      "\tUnique values:         907\n",
      "\tSmallest value:        0\n",
      "\tLargest value:         241,134.4\n",
      "\tSum:                   66,413,588.99\n",
      "\tMean:                  66,480.069\n",
      "\tMedian:                73,978.8\n",
      "\tStDev:                 38,775.968\n",
      "\tMost common values:    0 (11x)\n",
      "\t                       18,567.2 (8x)\n",
      "\t                       47,662.4 (7x)\n",
      "\t                       67,201.6 (7x)\n",
      "\t                       58,856 (7x)\n",
      "\n",
      " 18. \"Permanent Bonus Pay\"\n",
      "\n",
      "\tType of data:          Number\n",
      "\tContains null values:  False\n",
      "\tUnique values:         356\n",
      "\tSmallest value:        0\n",
      "\tLargest value:         36,338.41\n",
      "\tSum:                   1,864,542.67\n",
      "\tMean:                  1,866.409\n",
      "\tMedian:                0\n",
      "\tStDev:                 3,553.574\n",
      "\tMost common values:    0 (633x)\n",
      "\t                       4,593.94 (3x)\n",
      "\t                       5,247.28 (2x)\n",
      "\t                       1,062.74 (2x)\n",
      "\t                       3,248.73 (2x)\n",
      "\n",
      " 19. \"Longevity Bonus Pay\"\n",
      "\n",
      "\tType of data:          Number\n",
      "\tContains null values:  False\n",
      "\tUnique values:         311\n",
      "\tSmallest value:        0\n",
      "\tLargest value:         11,660.82\n",
      "\tSum:                   789,810.8\n",
      "\tMean:                  790.601\n",
      "\tMedian:                0\n",
      "\tStDev:                 1,718.937\n",
      "\tMost common values:    0 (640x)\n",
      "\t                       510.56 (8x)\n",
      "\t                       1,848.02 (7x)\n",
      "\t                       1,618.46 (7x)\n",
      "\t                       1,310.82 (6x)\n",
      "\n",
      " 20. \"Temporary Bonus Pay\"\n",
      "\n",
      "\tType of data:          Number\n",
      "\tContains null values:  False\n",
      "\tUnique values:         177\n",
      "\tSmallest value:        0\n",
      "\tLargest value:         13,852\n",
      "\tSum:                   514,104.41\n",
      "\tMean:                  514.619\n",
      "\tMedian:                0\n",
      "\tStDev:                 1,048.723\n",
      "\tMost common values:    0 (527x)\n",
      "\t                       1,025 (77x)\n",
      "\t                       882 (45x)\n",
      "\t                       150 (39x)\n",
      "\t                       1,205 (27x)\n",
      "\n",
      " 21. \"Lump Sum Pay\"\n",
      "\n",
      "\tType of data:          Number\n",
      "\tContains null values:  True (excluded from calculations)\n",
      "\tUnique values:         144\n",
      "\tSmallest value:        0\n",
      "\tLargest value:         70,359\n",
      "\tSum:                   628,599.7\n",
      "\tMean:                  765.651\n",
      "\tMedian:                0\n",
      "\tStDev:                 4,721.757\n",
      "\tMost common values:    0 (677x)\n",
      "\t                       None (178x)\n",
      "\t                       2,525.76 (2x)\n",
      "\t                       2,887.2 (2x)\n",
      "\t                       2,133.18 (1x)\n",
      "\n",
      " 22. \"Overtime Pay\"\n",
      "\n",
      "\tType of data:          Number\n",
      "\tContains null values:  True (excluded from calculations)\n",
      "\tUnique values:         490\n",
      "\tSmallest value:        -619.51\n",
      "\tLargest value:         222,765.52\n",
      "\tSum:                   6,108,023.13\n",
      "\tMean:                  6,132.553\n",
      "\tMedian:                0\n",
      "\tStDev:                 15,360.157\n",
      "\tMost common values:    0 (508x)\n",
      "\t                       None (3x)\n",
      "\t                       4,424.32 (1x)\n",
      "\t                       9,839.33 (1x)\n",
      "\t                       723.95 (1x)\n",
      "\n",
      " 23. \"Other Pay & Adjustments\"\n",
      "\n",
      "\tType of data:          Number\n",
      "\tContains null values:  False\n",
      "\tUnique values:         493\n",
      "\tSmallest value:        -4,255.2\n",
      "\tLargest value:         69,245.64\n",
      "\tSum:                   1,922,539.38\n",
      "\tMean:                  1,924.464\n",
      "\tMedian:                0\n",
      "\tStDev:                 6,156.76\n",
      "\tMost common values:    0 (443x)\n",
      "\t                       600 (16x)\n",
      "\t                       132 (15x)\n",
      "\t                       1,200 (12x)\n",
      "\t                       264 (6x)\n",
      "\n",
      " 24. \"Other Pay (Payroll Explorer)\"\n",
      "\n",
      "\tType of data:          Number\n",
      "\tContains null values:  False\n",
      "\tUnique values:         828\n",
      "\tSmallest value:        -2\n",
      "\tLargest value:         79,931.67\n",
      "\tSum:                   5,645,461.95\n",
      "\tMean:                  5,651.113\n",
      "\tMedian:                3,158.63\n",
      "\tStDev:                 8,285.571\n",
      "\tMost common values:    0 (132x)\n",
      "\t                       2,518.02 (6x)\n",
      "\t                       600 (6x)\n",
      "\t                       470.2 (4x)\n",
      "\t                       1,200 (4x)\n",
      "\n",
      " 25. \"MOU\"\n",
      "\n",
      "\tType of data:          Number\n",
      "\tContains null values:  True (excluded from calculations)\n",
      "\tUnique values:         33\n",
      "\tSmallest value:        0\n",
      "\tLargest value:         39\n",
      "\tSum:                   10,950\n",
      "\tMean:                  13.386\n",
      "\tMedian:                14\n",
      "\tStDev:                 9.935\n",
      "\tMost common values:    24 (183x)\n",
      "\t                       None (181x)\n",
      "\t                       3 (99x)\n",
      "\t                       4 (72x)\n",
      "\t                       23 (53x)\n",
      "\n",
      " 26. \"MOU Title\"\n",
      "\n",
      "\tType of data:          Text\n",
      "\tContains null values:  True (excluded from calculations)\n",
      "\tUnique values:         33\n",
      "\tLongest value:         24 characters\n",
      "\tMost common values:    POLICE OFFICERS UNIT (183x)\n",
      "\t                       None (181x)\n",
      "\t                       CLERICAL UNIT (99x)\n",
      "\t                       EQUIP.OPER. & LABOR (72x)\n",
      "\t                       FIREFIGHTERS & FIRE CAPT (53x)\n",
      "\n",
      " 27. \"FMS Department\"\n",
      "\n",
      "\tType of data:          Number\n",
      "\tContains null values:  False\n",
      "\tUnique values:         35\n",
      "\tSmallest value:        2\n",
      "\tLargest value:         98\n",
      "\tSum:                   66,135\n",
      "\tMean:                  66.201\n",
      "\tMedian:                70\n",
      "\tStDev:                 28.995\n",
      "\tMost common values:    70 (231x)\n",
      "\t                       98 (181x)\n",
      "\t                       88 (124x)\n",
      "\t                       4 (61x)\n",
      "\t                       38 (59x)\n",
      "\n",
      " 28. \"Job Class\"\n",
      "\n",
      "\tType of data:          Number\n",
      "\tContains null values:  False\n",
      "\tUnique values:         286\n",
      "\tSmallest value:        2\n",
      "\tLargest value:         9,734\n",
      "\tSum:                   3,103,972\n",
      "\tMean:                  3,107.079\n",
      "\tMedian:                2,401\n",
      "\tStDev:                 2,083.933\n",
      "\tMost common values:    2,214 (126x)\n",
      "\t                       2,223 (32x)\n",
      "\t                       2,498 (31x)\n",
      "\t                       2,112 (27x)\n",
      "\t                       1,358 (25x)\n",
      "\n",
      " 29. \"Pay Grade\"\n",
      "\n",
      "\tType of data:          Text\n",
      "\tContains null values:  True (excluded from calculations)\n",
      "\tUnique values:         17\n",
      "\tLongest value:         1 characters\n",
      "\tMost common values:    0 (305x)\n",
      "\t                       2 (205x)\n",
      "\t                       None (181x)\n",
      "\t                       1 (114x)\n",
      "\t                       3 (85x)\n",
      "\n",
      " 30. \"Average Health Cost\"\n",
      "\n",
      "\tType of data:          Number\n",
      "\tContains null values:  False\n",
      "\tUnique values:         5\n",
      "\tSmallest value:        0\n",
      "\tLargest value:         15,860.53\n",
      "\tSum:                   9,947,025.82\n",
      "\tMean:                  9,956.983\n",
      "\tMedian:                10,710.24\n",
      "\tStDev:                 5,076.547\n",
      "\tMost common values:    10,710.24 (397x)\n",
      "\t                       11,651.4 (185x)\n",
      "\t                       0 (184x)\n",
      "\t                       15,860.53 (178x)\n",
      "\t                       13,025.04 (55x)\n",
      "\n",
      " 31. \"Average Dental Cost\"\n",
      "\n",
      "\tType of data:          Number\n",
      "\tContains null values:  False\n",
      "\tUnique values:         5\n",
      "\tSmallest value:        0\n",
      "\tLargest value:         1,250.49\n",
      "\tSum:                   598,524.9\n",
      "\tMean:                  599.124\n",
      "\tMedian:                405.24\n",
      "\tStDev:                 421.917\n",
      "\tMost common values:    405.24 (397x)\n",
      "\t                       898.08 (185x)\n",
      "\t                       0 (184x)\n",
      "\t                       1,250.49 (178x)\n",
      "\t                       889.32 (55x)\n",
      "\n",
      " 32. \"Average Basic Life\"\n",
      "\n",
      "\tType of data:          Number\n",
      "\tContains null values:  False\n",
      "\tUnique values:         4\n",
      "\tSmallest value:        0\n",
      "\tLargest value:         191.04\n",
      "\tSum:                   48,646.2\n",
      "\tMean:                  48.695\n",
      "\tMedian:                11.4\n",
      "\tStDev:                 76.467\n",
      "\tMost common values:    11.4 (397x)\n",
      "\t                       0 (362x)\n",
      "\t                       191.04 (185x)\n",
      "\t                       159.6 (55x)\n",
      "\n",
      " 33. \"Average Benefit Cost\"\n",
      "\n",
      "\tType of data:          Number\n",
      "\tContains null values:  False\n",
      "\tUnique values:         5\n",
      "\tSmallest value:        0\n",
      "\tLargest value:         17,111.02\n",
      "\tSum:                   10,594,196.92\n",
      "\tMean:                  10,604.802\n",
      "\tMedian:                11,126.88\n",
      "\tStDev:                 5,468.24\n",
      "\tMost common values:    11,126.88 (397x)\n",
      "\t                       12,740.52 (185x)\n",
      "\t                       0 (184x)\n",
      "\t                       17,111.02 (178x)\n",
      "\t                       14,073.96 (55x)\n",
      "\n",
      " 34. \"Benefits Plan\"\n",
      "\n",
      "\tType of data:          Text\n",
      "\tContains null values:  True (excluded from calculations)\n",
      "\tUnique values:         5\n",
      "\tLongest value:         6 characters\n",
      "\tMost common values:    City (397x)\n",
      "\t                       Police (185x)\n",
      "\t                       None (184x)\n",
      "\t                       DWP (178x)\n",
      "\t                       Fire (55x)\n",
      "\n",
      " 35. \"Job Class Link\"\n",
      "\n",
      "\tType of data:          Text\n",
      "\tContains null values:  False\n",
      "\tUnique values:         286\n",
      "\tLongest value:         39 characters\n",
      "\tMost common values:    http://per.lacity.org/perspecs/2214.pdf (126x)\n",
      "\t                       http://per.lacity.org/perspecs/2223.pdf (32x)\n",
      "\t                       http://per.lacity.org/perspecs/2498.pdf (31x)\n",
      "\t                       http://per.lacity.org/perspecs/2112.pdf (27x)\n",
      "\t                       http://per.lacity.org/perspecs/1358.pdf (25x)\n",
      "\n",
      "Row count: 999\n"
     ]
    }
   ],
   "source": [
    "!head -n 1000 City_Employee_Payroll.csv |csvstat"
   ]
  },
  {
   "cell_type": "markdown",
   "metadata": {},
   "source": [
    "We can see our original dataset contains a relatively huge volumn of data and various columns. Therefore, we can have a quick and brief look at the complete dataset with xsv"
   ]
  },
  {
   "cell_type": "code",
   "execution_count": 3,
   "metadata": {},
   "outputs": [
    {
     "name": "stdout",
     "output_type": "stream",
     "text": [
      "field                         type     sum                 min                                      max                                           min_length  max_length  mean                   stddev\n",
      "Row ID                        Unicode                      3-1000027830ctFu                         8-999983159dwp972Fu                           12          21                                 \n",
      "Year                          Integer  745198891           2013                                     2018                                          4           4           2015.6199717617972     1.7227487441516143\n",
      "Department Title              Unicode                      Aging                                    Zoo                                           3           60                                 \n",
      "Payroll Department            Integer  1381356220          101                                      8702                                          0           4           4591.374098830309      2532.7902624462286\n",
      "Record Number                 Unicode                      100002370                                999983159                                     6           10                                 \n",
      "Job Class Title               Unicode                      311 Director                             Zoo Veterinarian III                          5           71                                 \n",
      "Employment Type               Unicode                      Full Time                                Per Event                                     9           9                                  \n",
      "Hourly or Event Rate          Float    13753597.349995987  0                                        900                                           0           6           39.443511160310585     32.592580526189515\n",
      "Projected Annual Salary       Float    29938112711.53812   0                                        374211.36                                     4           9           80976.84876752584      35192.86188045362\n",
      "Q1 Payments                   Float    7650410854.540076   -18304.17                                262966.09                                     4           9           20692.892993843754     15310.901104566528\n",
      "Q2 Payments                   Float    7327842061.819835   -35949.38                                217157.93                                     4           9           19820.40632119077      14192.519815788617\n",
      "Q3 Payments                   Float    7870439988.589766   -34122.58                                291317.36                                     4           9           21288.029570557832     15310.92539888666\n",
      "Q4 Payments                   Float    5992796448.500024   -30728.27                                500930.74                                     4           9           16209.364176710998     14768.397453109894\n",
      "Payments Over Base Pay        Float    2504565528.2700157  -30878.27                                435621.77                                     0           9           14386.282860236322     22258.694700095326\n",
      "% Over Base Pay               Float    207.62999999996575  -10.19                                   2.36                                          0           6           0.0011926315668547096  0.027670589154815732\n",
      "Total Payments                Float    28841489353.45164   -30728.27                                585164.96                                     4           9           78010.69306230203      53568.77891315738\n",
      "Base Pay                      Float    23508707475.40009   -12922.52                                360942.4                                      4           9           63586.54161996378      40808.34135121464\n",
      "Permanent Bonus Pay           Float    673409048.0700382   -6476.45                                 112311.2                                      4           9           1821.4422254889987     3801.484369651601\n",
      "Longevity Bonus Pay           Float    236845236.1699825   -1376.24                                 22354.64                                      4           8           640.6209053803924      1810.8620314869197\n",
      "Temporary Bonus Pay           Float    239266840.29999617  -3510                                    268382.66                                     4           9           647.1708797658572      2453.590456297038\n",
      "Lump Sum Pay                  Float    283521578.59999824  -102.7                                   182987.33                                     0           9           938.0242398777299      5821.60914090577\n",
      "Overtime Pay                  Float    3136527420.4800396  -1087.58                                 334654.93                                     0           9           8515.836685463772      18099.64231248246\n",
      "Other Pay & Adjustments       Float    763211754.4300548   -30878.27                                428128.98                                     4           9           2064.3413100738044     6921.295207497443\n",
      "Other Pay (Payroll Explorer)  Float    2181619807.9498553  -30878.27                                435621.77                                     4           9           5900.862855276482      10016.370187609618\n",
      "MOU                           Unicode                      0                                        Z                                             0           2                                  \n",
      "MOU Title                     Unicode                      ADMINISTRATIVE                           Unrepresented Unit - Non Management Benefits  0           49                                 \n",
      "FMS Department                Integer  24514457            2                                        98                                            1           2           66.30690104730351      29.41857644566143\n",
      "Job Class                     Integer  1126539043          1                                        9998                                          1           4           3047.0718910935934     2060.053137244019\n",
      "Pay Grade                     Unicode                      0                                        Z                                             0           1                                  \n",
      "Average Health Cost           Float    3999703652.9741874  0                                        19964.75                                      4           8           10818.430705440976     5604.1784674994315\n",
      "Average Dental Cost           Float    223300715.60953233  0                                        1282.61                                       4           7           603.9855769085065      422.2743593810144\n",
      "Average Basic Life            Float    17433807.56998399   0                                        195.01                                        4           6           47.15510335071674      76.77505316654923\n",
      "Average Benefit Cost          Float    4240438176.154125   0                                        21164.64                                      4           8           11469.571385700177     5995.104277937267\n",
      "Benefits Plan                 Unicode                      City                                     Police                                        0           6                                  \n",
      "Job Class Link                Unicode                      http://per.lacity.org/perspecs/0001.pdf  https://per.lacity.org/perspecs/9998.pdf      37          40                                 \n"
     ]
    }
   ],
   "source": [
    "!xsv stats City_Employee_Payroll.csv| xsv table"
   ]
  },
  {
   "cell_type": "markdown",
   "metadata": {},
   "source": [
    "From the original dataset, we can see we have some numbers and text with different columns, and the last column also contains a website link which calls for tidying up in the following procedures."
   ]
  },
  {
   "cell_type": "markdown",
   "metadata": {},
   "source": [
    "It seems like that from the above xsv step, we can only have a simple glance at the dataset. Therefore, we desire to take a deeper understanding of the dataset with the help of Spark."
   ]
  },
  {
   "cell_type": "code",
   "execution_count": 4,
   "metadata": {},
   "outputs": [],
   "source": [
    "import findspark"
   ]
  },
  {
   "cell_type": "code",
   "execution_count": 5,
   "metadata": {},
   "outputs": [],
   "source": [
    "findspark.init()"
   ]
  },
  {
   "cell_type": "code",
   "execution_count": 6,
   "metadata": {},
   "outputs": [],
   "source": [
    "from pyspark import SparkContext"
   ]
  },
  {
   "cell_type": "code",
   "execution_count": 7,
   "metadata": {},
   "outputs": [],
   "source": [
    "spark = SparkContext(appName='project')"
   ]
  },
  {
   "cell_type": "code",
   "execution_count": 8,
   "metadata": {},
   "outputs": [
    {
     "data": {
      "text/html": [
       "\n",
       "        <div>\n",
       "            <p><b>SparkContext</b></p>\n",
       "\n",
       "            <p><a href=\"http://ip-172-31-94-176:4040\">Spark UI</a></p>\n",
       "\n",
       "            <dl>\n",
       "              <dt>Version</dt>\n",
       "                <dd><code>v2.3.1</code></dd>\n",
       "              <dt>Master</dt>\n",
       "                <dd><code>local[*]</code></dd>\n",
       "              <dt>AppName</dt>\n",
       "                <dd><code>project</code></dd>\n",
       "            </dl>\n",
       "        </div>\n",
       "        "
      ],
      "text/plain": [
       "<SparkContext master=local[*] appName=project>"
      ]
     },
     "execution_count": 8,
     "metadata": {},
     "output_type": "execute_result"
    }
   ],
   "source": [
    "spark"
   ]
  },
  {
   "cell_type": "code",
   "execution_count": 9,
   "metadata": {},
   "outputs": [],
   "source": [
    "from pyspark import SQLContext"
   ]
  },
  {
   "cell_type": "code",
   "execution_count": 10,
   "metadata": {},
   "outputs": [],
   "source": [
    "sqlc = SQLContext(spark)"
   ]
  },
  {
   "cell_type": "code",
   "execution_count": 11,
   "metadata": {},
   "outputs": [],
   "source": [
    "City_Employee_Payroll = sqlc.read.csv(\"City_Employee_Payroll.csv\", header=True, inferSchema=True)"
   ]
  },
  {
   "cell_type": "code",
   "execution_count": 12,
   "metadata": {},
   "outputs": [
    {
     "data": {
      "text/plain": [
       "369712"
      ]
     },
     "execution_count": 12,
     "metadata": {},
     "output_type": "execute_result"
    }
   ],
   "source": [
    "City_Employee_Payroll.count()"
   ]
  },
  {
   "cell_type": "markdown",
   "metadata": {},
   "source": [
    "From the count result, we can see we have in total 369712 rows in our original dataset. With such volumn, we are able to conclude with some reasonable conclusions through our exploration with the dataset."
   ]
  },
  {
   "cell_type": "code",
   "execution_count": 13,
   "metadata": {},
   "outputs": [
    {
     "data": {
      "text/plain": [
       "['Row ID',\n",
       " 'Year',\n",
       " 'Department Title',\n",
       " 'Payroll Department',\n",
       " 'Record Number',\n",
       " 'Job Class Title',\n",
       " 'Employment Type',\n",
       " 'Hourly or Event Rate',\n",
       " 'Projected Annual Salary',\n",
       " 'Q1 Payments',\n",
       " 'Q2 Payments',\n",
       " 'Q3 Payments',\n",
       " 'Q4 Payments',\n",
       " 'Payments Over Base Pay',\n",
       " '% Over Base Pay',\n",
       " 'Total Payments',\n",
       " 'Base Pay',\n",
       " 'Permanent Bonus Pay',\n",
       " 'Longevity Bonus Pay',\n",
       " 'Temporary Bonus Pay',\n",
       " 'Lump Sum Pay',\n",
       " 'Overtime Pay',\n",
       " 'Other Pay & Adjustments',\n",
       " 'Other Pay (Payroll Explorer)',\n",
       " 'MOU',\n",
       " 'MOU Title',\n",
       " 'FMS Department',\n",
       " 'Job Class',\n",
       " 'Pay Grade',\n",
       " 'Average Health Cost',\n",
       " 'Average Dental Cost',\n",
       " 'Average Basic Life',\n",
       " 'Average Benefit Cost',\n",
       " 'Benefits Plan',\n",
       " 'Job Class Link']"
      ]
     },
     "execution_count": 13,
     "metadata": {},
     "output_type": "execute_result"
    }
   ],
   "source": [
    "City_Employee_Payroll.columns"
   ]
  },
  {
   "cell_type": "code",
   "execution_count": 14,
   "metadata": {},
   "outputs": [
    {
     "name": "stdout",
     "output_type": "stream",
     "text": [
      "root\n",
      " |-- Row ID: string (nullable = true)\n",
      " |-- Year: integer (nullable = true)\n",
      " |-- Department Title: string (nullable = true)\n",
      " |-- Payroll Department: integer (nullable = true)\n",
      " |-- Record Number: string (nullable = true)\n",
      " |-- Job Class Title: string (nullable = true)\n",
      " |-- Employment Type: string (nullable = true)\n",
      " |-- Hourly or Event Rate: double (nullable = true)\n",
      " |-- Projected Annual Salary: double (nullable = true)\n",
      " |-- Q1 Payments: double (nullable = true)\n",
      " |-- Q2 Payments: double (nullable = true)\n",
      " |-- Q3 Payments: double (nullable = true)\n",
      " |-- Q4 Payments: double (nullable = true)\n",
      " |-- Payments Over Base Pay: double (nullable = true)\n",
      " |-- % Over Base Pay: double (nullable = true)\n",
      " |-- Total Payments: double (nullable = true)\n",
      " |-- Base Pay: double (nullable = true)\n",
      " |-- Permanent Bonus Pay: double (nullable = true)\n",
      " |-- Longevity Bonus Pay: double (nullable = true)\n",
      " |-- Temporary Bonus Pay: double (nullable = true)\n",
      " |-- Lump Sum Pay: double (nullable = true)\n",
      " |-- Overtime Pay: double (nullable = true)\n",
      " |-- Other Pay & Adjustments: double (nullable = true)\n",
      " |-- Other Pay (Payroll Explorer): double (nullable = true)\n",
      " |-- MOU: string (nullable = true)\n",
      " |-- MOU Title: string (nullable = true)\n",
      " |-- FMS Department: integer (nullable = true)\n",
      " |-- Job Class: integer (nullable = true)\n",
      " |-- Pay Grade: string (nullable = true)\n",
      " |-- Average Health Cost: double (nullable = true)\n",
      " |-- Average Dental Cost: double (nullable = true)\n",
      " |-- Average Basic Life: double (nullable = true)\n",
      " |-- Average Benefit Cost: double (nullable = true)\n",
      " |-- Benefits Plan: string (nullable = true)\n",
      " |-- Job Class Link: string (nullable = true)\n",
      "\n"
     ]
    }
   ],
   "source": [
    "City_Employee_Payroll.printSchema()"
   ]
  },
  {
   "cell_type": "code",
   "execution_count": 15,
   "metadata": {},
   "outputs": [
    {
     "name": "stdout",
     "output_type": "stream",
     "text": [
      "+----+\n",
      "|Year|\n",
      "+----+\n",
      "|2018|\n",
      "|2015|\n",
      "|2013|\n",
      "|2014|\n",
      "|2016|\n",
      "|2017|\n",
      "+----+\n",
      "\n"
     ]
    }
   ],
   "source": [
    "City_Employee_Payroll.select('Year').distinct().show()"
   ]
  },
  {
   "cell_type": "markdown",
   "metadata": {},
   "source": [
    "Our dataset covers five years from 2013 to 2018.Therefore, we can find out if there is a trend over time in our targeted columns and whether there appears to be a decline or increase over the years."
   ]
  },
  {
   "cell_type": "code",
   "execution_count": 16,
   "metadata": {},
   "outputs": [
    {
     "data": {
      "text/plain": [
       "93"
      ]
     },
     "execution_count": 16,
     "metadata": {},
     "output_type": "execute_result"
    }
   ],
   "source": [
    "City_Employee_Payroll.select('Department Title').distinct().count()"
   ]
  },
  {
   "cell_type": "code",
   "execution_count": 17,
   "metadata": {},
   "outputs": [
    {
     "name": "stdout",
     "output_type": "stream",
     "text": [
      "+--------------------+-----+\n",
      "|    Department Title|count|\n",
      "+--------------------+-----+\n",
      "|Water And Power (...|68853|\n",
      "|       Police (LAPD)|68339|\n",
      "|Recreation And Parks|39845|\n",
      "|     Airports (LAWA)|19490|\n",
      "|Public Works - Sa...|19128|\n",
      "|         Fire (LAFD)|18768|\n",
      "|              Police|13796|\n",
      "|Transportation (L...|10421|\n",
      "|    General Services|10185|\n",
      "|             Library| 9690|\n",
      "+--------------------+-----+\n",
      "only showing top 10 rows\n",
      "\n"
     ]
    }
   ],
   "source": [
    "City_Employee_Payroll.groupBy('Department Title').count().orderBy(\"count\",ascending=False).show(10)"
   ]
  },
  {
   "cell_type": "code",
   "execution_count": 18,
   "metadata": {},
   "outputs": [
    {
     "name": "stdout",
     "output_type": "stream",
     "text": [
      "+---------------+\n",
      "|Employment Type|\n",
      "+---------------+\n",
      "|      Per Event|\n",
      "|      Part Time|\n",
      "|      Full Time|\n",
      "+---------------+\n",
      "\n"
     ]
    }
   ],
   "source": [
    "City_Employee_Payroll.select('Employment Type').distinct().show()"
   ]
  },
  {
   "cell_type": "code",
   "execution_count": 19,
   "metadata": {},
   "outputs": [
    {
     "name": "stdout",
     "output_type": "stream",
     "text": [
      "+-------+--------------------+\n",
      "|summary|Hourly or Event Rate|\n",
      "+-------+--------------------+\n",
      "|  count|              348691|\n",
      "|   mean|   39.44351116029949|\n",
      "| stddev|  32.592627261910756|\n",
      "|    min|                 0.0|\n",
      "|    max|               900.0|\n",
      "+-------+--------------------+\n",
      "\n"
     ]
    }
   ],
   "source": [
    "City_Employee_Payroll.describe('Hourly or Event Rate').show()"
   ]
  },
  {
   "cell_type": "code",
   "execution_count": 20,
   "metadata": {},
   "outputs": [
    {
     "name": "stdout",
     "output_type": "stream",
     "text": [
      "+-------+-----------------------+------------------+----------------+------------------+------------------+\n",
      "|summary|Projected Annual Salary|       Q1 Payments|     Q2 Payments|       Q3 Payments|       Q4 Payments|\n",
      "+-------+-----------------------+------------------+----------------+------------------+------------------+\n",
      "|  count|                 369712|            369712|          369712|            369712|            369712|\n",
      "|   mean|      80976.84876752207|20692.892993844063|19820.4063211901|21288.029570556988|16209.364176710586|\n",
      "| stddev|      35192.90947551841|15310.921811132941|14192.5390098486|15310.946105485953|14768.417425990729|\n",
      "|    min|                    0.0|         -18304.17|       -35949.38|         -34122.58|         -30728.27|\n",
      "|    max|              374211.36|         262966.09|       217157.93|         291317.36|         500930.74|\n",
      "+-------+-----------------------+------------------+----------------+------------------+------------------+\n",
      "\n"
     ]
    }
   ],
   "source": [
    "City_Employee_Payroll.describe('Projected Annual Salary','Q1 Payments','Q2 Payments','Q3 Payments','Q4 Payments').show()"
   ]
  },
  {
   "cell_type": "code",
   "execution_count": 21,
   "metadata": {},
   "outputs": [
    {
     "name": "stdout",
     "output_type": "stream",
     "text": [
      "+-------+------------------+-----------------+----------------------+--------------------+\n",
      "|summary|          Base Pay|   Total Payments|Payments Over Base Pay|     % Over Base Pay|\n",
      "+-------+------------------+-----------------+----------------------+--------------------+\n",
      "|  count|            369712|           369712|                174094|              174094|\n",
      "|   mean|63586.541619963886|  78010.693062307|    14386.282860236513|0.001192631566854...|\n",
      "| stddev| 40808.39654069189|53568.85135993702|    22258.758627601743|0.027670668625413116|\n",
      "|    min|         -12922.52|        -30728.27|             -30878.27|              -10.19|\n",
      "|    max|          360942.4|        585164.96|             435621.77|                2.36|\n",
      "+-------+------------------+-----------------+----------------------+--------------------+\n",
      "\n"
     ]
    }
   ],
   "source": [
    "City_Employee_Payroll.describe('Base Pay','Total Payments','Payments Over Base Pay','% Over Base Pay').show()"
   ]
  },
  {
   "cell_type": "code",
   "execution_count": 22,
   "metadata": {},
   "outputs": [
    {
     "name": "stdout",
     "output_type": "stream",
     "text": [
      "+-------------+\n",
      "|Benefits Plan|\n",
      "+-------------+\n",
      "|          DWP|\n",
      "|         null|\n",
      "|       Police|\n",
      "|         Fire|\n",
      "|         City|\n",
      "+-------------+\n",
      "\n"
     ]
    }
   ],
   "source": [
    "City_Employee_Payroll.select('Benefits Plan').distinct().show()"
   ]
  },
  {
   "cell_type": "code",
   "execution_count": 23,
   "metadata": {},
   "outputs": [
    {
     "name": "stdout",
     "output_type": "stream",
     "text": [
      "+-------------+--------------------+------------------+-------------------+-------------------+\n",
      "|Benefits Plan|Average Benefit Cost|Average Basic Life|Average Dental Cost|Average Health Cost|\n",
      "+-------------+--------------------+------------------+-------------------+-------------------+\n",
      "|         City|             12704.5|             10.59|             419.26|           12274.65|\n",
      "|          DWP|            18755.63|               0.0|            1268.69|           17486.94|\n",
      "|       Police|             14665.1|            193.96|             959.69|           13511.45|\n",
      "|         Fire|            14073.96|             159.6|             889.32|           13025.04|\n",
      "|       Police|            13042.56|            193.32|             873.24|            11976.0|\n",
      "|          DWP|            17111.02|               0.0|            1250.49|           15860.53|\n",
      "|          DWP|            19392.62|               0.0|            1248.19|           18144.43|\n",
      "|          DWP|            18124.69|               0.0|            1282.61|           16842.08|\n",
      "|         Fire|            15988.76|            195.01|             958.12|           14835.63|\n",
      "|         Fire|            14758.83|            186.94|             932.71|           13639.18|\n",
      "|         Fire|            14054.28|            165.24|              890.4|           12998.64|\n",
      "|         City|            11894.13|             11.45|             412.34|           11470.34|\n",
      "|         Fire|            14106.84|            178.68|             896.76|            13031.4|\n",
      "|       Police|            13038.72|            192.36|             873.24|           11973.12|\n",
      "|          DWP|            21164.64|               0.0|            1199.89|           19964.75|\n",
      "|         City|            11435.16|              11.4|             411.36|            11012.4|\n",
      "|       Police|             13752.0|            192.74|             929.22|           12630.04|\n",
      "|       Police|            12740.52|            191.04|             898.08|            11651.4|\n",
      "|         City|            11126.88|              11.4|             405.24|           10710.24|\n",
      "|         City|            11421.48|              11.4|             409.68|            11000.4|\n",
      "+-------------+--------------------+------------------+-------------------+-------------------+\n",
      "only showing top 20 rows\n",
      "\n"
     ]
    }
   ],
   "source": [
    "City_Employee_Payroll.select('Benefits Plan','Average Benefit Cost','Average Basic Life','Average Dental Cost','Average Health Cost').distinct().show()"
   ]
  },
  {
   "cell_type": "markdown",
   "metadata": {},
   "source": [
    "The records of \"base pay\" and \"total payments\" is 369712, but the records of \"payments over base pay\" and \" % over base pay\" is 174094. We can draw an conclusion that the last two columns seems to miss some data, so we have to deal with this problem if we want to conduct further analysis on these two variables."
   ]
  },
  {
   "cell_type": "markdown",
   "metadata": {},
   "source": [
    "---"
   ]
  },
  {
   "cell_type": "markdown",
   "metadata": {},
   "source": [
    "Finally,from all the above result, we can see that for our analysis here, our original dataset contains some unnecessary columns and meanwhile, have null values. Therefore, in order to complete the following detailed analysis, we will tidy up our original dataset in the next section."
   ]
  },
  {
   "cell_type": "markdown",
   "metadata": {},
   "source": [
    "# Part 2 - Wrangling\n",
    "\n",
    "Based on what you found above, wrangle the data into a format suitable for analysis. This may involve cleaning, filtering, merging, and modeling steps, any and all of which are valid for this project. Describe your process as you proceed, and document any scripts, databases, or other models you develop. Be specific about any key decisions to modify or remove data, how you overcame any challenges, and all assumptions you make about the meaning of variables and their values.\n",
    "Verify that your wrangling steps have succeeded (for example, if you loaded the data into a dimensional model, ensure that the fact table contains the right number of records)."
   ]
  },
  {
   "cell_type": "markdown",
   "metadata": {},
   "source": [
    "----"
   ]
  },
  {
   "cell_type": "markdown",
   "metadata": {},
   "source": [
    "## 0 - Data preprocessing"
   ]
  },
  {
   "cell_type": "markdown",
   "metadata": {},
   "source": [
    "On our first attempt, we try to wrangle with Trifacta directly. However, considering the volumn of our dataset, it is hard to fit it into it.Therefore, we conducted some simple data preprocessing steps with pandas. The detailed python code shows as below."
   ]
  },
  {
   "cell_type": "raw",
   "metadata": {},
   "source": [
    "import pandas as pd\n",
    "employee = pd.read_csv('City_Employee_Payroll.csv',low_memory=False).dropna(how='all')\n",
    "\n",
    "employee.isnull().sum()\n",
    "employee = employee.drop(['Row ID','Job Class Link','Payroll Department'\n",
    "                          ,'Record Number',\n",
    "                          'MOU','MOU Title','FMS Department' ],axis=1)\n",
    "\n",
    "employee.to_csv('employee_2013_to_2018.csv')"
   ]
  },
  {
   "cell_type": "markdown",
   "metadata": {},
   "source": [
    "---"
   ]
  },
  {
   "cell_type": "markdown",
   "metadata": {},
   "source": [
    "In the previous part, we delete some columns that are not related to our analysis here and unnecessary for our current exploration. Besides, after the python process, we will have a file with proper size and are able to fit the dataset into Trifacta for further wrangling steps now."
   ]
  },
  {
   "cell_type": "markdown",
   "metadata": {},
   "source": [
    "The detailed process receipt looks as below."
   ]
  },
  {
   "cell_type": "markdown",
   "metadata": {},
   "source": [
    "* replacemissing col: {Benefits Plan} with: custom text: 'Unknown'\n",
    "* rename type: manual mapping: [column2,'ID']\n",
    "* drop col: {Pay Grade} action: Drop\n",
    "* replacemissing col: {Hourly or Event Rate} with: custom text: '0'\n",
    "* replacepatterns col: ID, Year, {Department Title}, {Job Class Title}, {Employment Type}, {Hourly or Event Rate}, {Projected Annual Salary}, {Q1 Payments}, {Q2 Payments}, {Q3 Payments}, {Q4 Payments}, {Payments Over Base Pay}, {% Over Base Pay}, {Total Payments}, {Base Pay}, {Permanent Bonus Pay}, {Longevity Bonus Pay}, {Temporary Bonus Pay}, {Lump Sum Pay}, {Overtime Pay}, {Other Pay & Adjustments}, {Other Pay (Payroll Explorer)}, {Job Class}, {Average Health Cost}, {Average Dental Cost}, {Average Basic Life}, {Average Benefit Cost}, {Benefits Plan} with: ' ' on: '\\\"'\n",
    "* replacemissing col: {Lump Sum Pay},{Overtime Pay},{Payments Over Base Pay},{% Over Base Pay} with: custom text: '0'"
   ]
  },
  {
   "cell_type": "markdown",
   "metadata": {},
   "source": [
    "For our wrangling with Trifacta, we first replace some missing values in benefits plan with unknown. From the first section, we have already known that there are some categories within this column such as city and police. However, it will be hard to distinguish employee's benefit plan from their department or job titles. Therefore, it is reasonable for us to replace the missing values with unknown which also clearly illustrates the situation inside the dataset.\n",
    "\n",
    "Then, as for the column2, it is a column generated from the python dataframe which is an unique identifier of each row. Therefore, we transform its name into ID to be a marker for every employee.After that we further drop some unnecessary columns that are irrelated to our analysis.\n",
    "\n",
    "Last but not least, we replace the missing values in other five columns. There are some missing values with the hourly or event rate. We assume that the null value comes from statistical reasons. One possible explanation is those people simply get paid by year instead of by hour or event. Therefore, it is reasonable fore them to have blank rate here in this column. As for the other four columns, there may exist no over base or over time pay here within the dataset and leads to the nulls. Initially, we prefer to replace with some negative values in order to distinguish those missing values with other normal values we have. When we take a deeper look into our dataset, however, we can see there appears to have some negative values in some of the columns. The insertion of negative values will disturb the current distribution and make the picture no longer a reflection of the real situation. Therefore, we decide to simply replace those values with 0 in order to retain the balance with the picture."
   ]
  },
  {
   "cell_type": "markdown",
   "metadata": {},
   "source": [
    "## 1 - Examine the Wrangled Dataset"
   ]
  },
  {
   "cell_type": "markdown",
   "metadata": {},
   "source": [
    "The file below is the wrangled dataset. People who read about this notebook will definitely get identical data file with our orignal dataset after the entire wrangling process documented in the last section."
   ]
  },
  {
   "cell_type": "code",
   "execution_count": 24,
   "metadata": {},
   "outputs": [
    {
     "name": "stdout",
     "output_type": "stream",
     "text": [
      "--2018-12-10 16:28:43--  https://s3.amazonaws.com/jiaruxu/employee_2013_to_2018.csv\n",
      "Resolving s3.amazonaws.com (s3.amazonaws.com)... 52.216.128.197\n",
      "Connecting to s3.amazonaws.com (s3.amazonaws.com)|52.216.128.197|:443... connected.\n",
      "HTTP request sent, awaiting response... 200 OK\n",
      "Length: 98855757 (94M) [text/csv]\n",
      "Saving to: ‘employee_2013_to_2018.csv’\n",
      "\n",
      "employee_2013_to_20 100%[===================>]  94.28M  38.3MB/s    in 2.5s    \n",
      "\n",
      "2018-12-10 16:28:45 (38.3 MB/s) - ‘employee_2013_to_2018.csv’ saved [98855757/98855757]\n",
      "\n"
     ]
    }
   ],
   "source": [
    "!wget -O employee_2013_to_2018.csv https://s3.amazonaws.com/jiaruxu/employee_2013_to_2018.csv"
   ]
  },
  {
   "cell_type": "markdown",
   "metadata": {},
   "source": [
    "Similar to the previous study, we decide to use spark to explore our wrangled data."
   ]
  },
  {
   "cell_type": "code",
   "execution_count": 25,
   "metadata": {},
   "outputs": [],
   "source": [
    "employee_2013_to_2018 = sqlc.read.csv(\"employee_2013_to_2018.csv\", header=True, inferSchema=True)"
   ]
  },
  {
   "cell_type": "code",
   "execution_count": 26,
   "metadata": {},
   "outputs": [
    {
     "data": {
      "text/plain": [
       "369712"
      ]
     },
     "execution_count": 26,
     "metadata": {},
     "output_type": "execute_result"
    }
   ],
   "source": [
    "employee_2013_to_2018.count()"
   ]
  },
  {
   "cell_type": "markdown",
   "metadata": {},
   "source": [
    "Luckily we have the exact same rows compared with our original dataset and the column also looks still in sequence."
   ]
  },
  {
   "cell_type": "code",
   "execution_count": 27,
   "metadata": {},
   "outputs": [
    {
     "name": "stdout",
     "output_type": "stream",
     "text": [
      "+---------------+------+\n",
      "|Employment Type| count|\n",
      "+---------------+------+\n",
      "|      Full Time|303539|\n",
      "|      Part Time| 65142|\n",
      "|      Per Event|  1031|\n",
      "+---------------+------+\n",
      "\n"
     ]
    }
   ],
   "source": [
    "employee_2013_to_2018.groupBy('Employment Type').count().orderBy(\"count\",ascending=False).show()"
   ]
  },
  {
   "cell_type": "code",
   "execution_count": 28,
   "metadata": {},
   "outputs": [
    {
     "name": "stdout",
     "output_type": "stream",
     "text": [
      "+-------------+\n",
      "|Benefits Plan|\n",
      "+-------------+\n",
      "|          DWP|\n",
      "|      Unknown|\n",
      "|       Police|\n",
      "|         Fire|\n",
      "|         City|\n",
      "+-------------+\n",
      "\n"
     ]
    }
   ],
   "source": [
    "employee_2013_to_2018.select('Benefits Plan').distinct().show()"
   ]
  },
  {
   "cell_type": "markdown",
   "metadata": {},
   "source": [
    "Looks like we have successfully completed the replacement here and substitute the null value with our custom value here."
   ]
  },
  {
   "cell_type": "markdown",
   "metadata": {},
   "source": [
    "## 2 - Create Database and Load Data"
   ]
  },
  {
   "cell_type": "markdown",
   "metadata": {},
   "source": [
    "Basing on our goals, we create a database here with star schema. We set the whole schema with three dimension tables and one fact table. Respectively, the three dimension tables measure about the year,department and employment situations. In our fact, we would like to target on various forms of payment,namely the total payment, base payment,overtime payment,permanent bonus payment and quarter payment."
   ]
  },
  {
   "cell_type": "code",
   "execution_count": 29,
   "metadata": {},
   "outputs": [
    {
     "data": {
      "text/html": [
       "<img src=\"https://github.com/jiaruxu233/istm6212/blob/master/final_project_schema.png?raw=true\"/>"
      ],
      "text/plain": [
       "<IPython.core.display.Image object>"
      ]
     },
     "execution_count": 29,
     "metadata": {},
     "output_type": "execute_result"
    }
   ],
   "source": [
    "from IPython.display import Image\n",
    "Image(url=\"https://github.com/jiaruxu233/istm6212/blob/master/final_project_schema.png?raw=true\")  "
   ]
  },
  {
   "cell_type": "code",
   "execution_count": 30,
   "metadata": {},
   "outputs": [],
   "source": [
    "%load_ext sql"
   ]
  },
  {
   "cell_type": "code",
   "execution_count": 31,
   "metadata": {},
   "outputs": [],
   "source": [
    "!dropdb --if-exists -U student project"
   ]
  },
  {
   "cell_type": "code",
   "execution_count": 32,
   "metadata": {},
   "outputs": [],
   "source": [
    "!createdb -U student project"
   ]
  },
  {
   "cell_type": "code",
   "execution_count": 33,
   "metadata": {},
   "outputs": [
    {
     "data": {
      "text/plain": [
       "'Connected: student@project'"
      ]
     },
     "execution_count": 33,
     "metadata": {},
     "output_type": "execute_result"
    }
   ],
   "source": [
    "%sql postgresql://student@/project"
   ]
  },
  {
   "cell_type": "code",
   "execution_count": 34,
   "metadata": {},
   "outputs": [],
   "source": [
    "# load our original data into a table for further processing"
   ]
  },
  {
   "cell_type": "code",
   "execution_count": 35,
   "metadata": {},
   "outputs": [
    {
     "name": "stdout",
     "output_type": "stream",
     "text": [
      " * postgresql://student@/project\n",
      "Done.\n",
      "Done.\n"
     ]
    },
    {
     "data": {
      "text/plain": [
       "[]"
      ]
     },
     "execution_count": 35,
     "metadata": {},
     "output_type": "execute_result"
    }
   ],
   "source": [
    "%%sql\n",
    "DROP TABLE IF EXISTS employee_info;\n",
    "\n",
    "CREATE TABLE employee_info (\n",
    "    ID INTEGER,\n",
    "    year INTEGER,\n",
    "    department_title VARCHAR(100),\n",
    "    job_class_title VARCHAR(500),\n",
    "    employment_type VARCHAR(500),\n",
    "    hourly_or_event_rate NUMERIC(20,2),\n",
    "    projected_annual_salary NUMERIC(20,2),\n",
    "    Q1_payments NUMERIC(20,2),\n",
    "    Q2_payments NUMERIC(20,2),\n",
    "    Q3_payments NUMERIC(20,2),\n",
    "    Q4_payments NUMERIC(20,2),\n",
    "    payment_over_base_pay NUMERIC(20,2),\n",
    "    percent_over_base_pay NUMERIC(20,2),\n",
    "    total_payments NUMERIC(20,2),\n",
    "    base_pay NUMERIC(20,2),\n",
    "    permanent_bonus_pay NUMERIC(20,2),\n",
    "    longevity_bonus_pay NUMERIC(20,2),\n",
    "    temporary_bonus_pay NUMERIC(20,2),\n",
    "    lump_sum_pay NUMERIC(20,2),\n",
    "    overtime_pay NUMERIC(20,2),\n",
    "    other_pay_adj NUMERIC(20,2),\n",
    "    other_pay NUMERIC(20,2),\n",
    "    job_class INTEGER,\n",
    "    average_health_cost NUMERIC(20,2),\n",
    "    average_dental_cost NUMERIC(20,2),\n",
    "    average_basic_life NUMERIC(20,2),\n",
    "    average_benefit_cost NUMERIC(20,2),\n",
    "    benefits_plan VARCHAR(50)\n",
    ")"
   ]
  },
  {
   "cell_type": "code",
   "execution_count": 36,
   "metadata": {},
   "outputs": [
    {
     "name": "stdout",
     "output_type": "stream",
     "text": [
      "/home/ubuntu\n"
     ]
    }
   ],
   "source": [
    "!pwd"
   ]
  },
  {
   "cell_type": "code",
   "execution_count": 37,
   "metadata": {},
   "outputs": [],
   "source": [
    "# please remember to modify the following path according to the previous result"
   ]
  },
  {
   "cell_type": "code",
   "execution_count": 38,
   "metadata": {},
   "outputs": [
    {
     "name": "stdout",
     "output_type": "stream",
     "text": [
      " * postgresql://student@/project\n",
      "369712 rows affected.\n"
     ]
    },
    {
     "data": {
      "text/plain": [
       "[]"
      ]
     },
     "execution_count": 38,
     "metadata": {},
     "output_type": "execute_result"
    }
   ],
   "source": [
    "%%sql\n",
    "COPY employee_info FROM '/home/ubuntu/employee_2013_to_2018.csv'\n",
    "CSV\n",
    "HEADER;"
   ]
  },
  {
   "cell_type": "markdown",
   "metadata": {},
   "source": [
    "In the following code, we make a few modification on the department title.\n",
    "\n",
    "At first, we did not figure out whether there is any relationship between those similar department titles. We searched it online and did not have any valuable conclusions. Then, during one visualization of our data, we find out the similar forms in the following code denotes exactly the same thing. They are simply different names within the same department and in some year the statistical department decided to take a different name and causes our previous confusion. Therefore, we uniform their formats in order to help our following analysis."
   ]
  },
  {
   "cell_type": "code",
   "execution_count": 39,
   "metadata": {},
   "outputs": [
    {
     "name": "stdout",
     "output_type": "stream",
     "text": [
      " * postgresql://student@/project\n",
      "68339 rows affected.\n",
      "18768 rows affected.\n",
      "5988 rows affected.\n",
      "19490 rows affected.\n"
     ]
    },
    {
     "data": {
      "text/plain": [
       "[]"
      ]
     },
     "execution_count": 39,
     "metadata": {},
     "output_type": "execute_result"
    }
   ],
   "source": [
    "%%sql\n",
    "update employee_info\n",
    "set department_title='Police'\n",
    "where department_title='Police (LAPD)';\n",
    "\n",
    "update employee_info\n",
    "set department_title='Fire'\n",
    "where department_title ='Fire (LAFD)';\n",
    "\n",
    "update employee_info\n",
    "set department_title='Harbor'\n",
    "where department_title='Harbor (Port of LA)';\n",
    "\n",
    "update employee_info\n",
    "set department_title='Airports'\n",
    "where department_title='Airports (LAWA)';"
   ]
  },
  {
   "cell_type": "code",
   "execution_count": 40,
   "metadata": {},
   "outputs": [
    {
     "name": "stdout",
     "output_type": "stream",
     "text": [
      " * postgresql://student@/project\n",
      "3 rows affected.\n"
     ]
    },
    {
     "data": {
      "text/html": [
       "<table>\n",
       "    <tr>\n",
       "        <th>id</th>\n",
       "        <th>year</th>\n",
       "        <th>department_title</th>\n",
       "        <th>job_class_title</th>\n",
       "        <th>employment_type</th>\n",
       "        <th>hourly_or_event_rate</th>\n",
       "        <th>projected_annual_salary</th>\n",
       "        <th>q1_payments</th>\n",
       "        <th>q2_payments</th>\n",
       "        <th>q3_payments</th>\n",
       "        <th>q4_payments</th>\n",
       "        <th>payment_over_base_pay</th>\n",
       "        <th>percent_over_base_pay</th>\n",
       "        <th>total_payments</th>\n",
       "        <th>base_pay</th>\n",
       "        <th>permanent_bonus_pay</th>\n",
       "        <th>longevity_bonus_pay</th>\n",
       "        <th>temporary_bonus_pay</th>\n",
       "        <th>lump_sum_pay</th>\n",
       "        <th>overtime_pay</th>\n",
       "        <th>other_pay_adj</th>\n",
       "        <th>other_pay</th>\n",
       "        <th>job_class</th>\n",
       "        <th>average_health_cost</th>\n",
       "        <th>average_dental_cost</th>\n",
       "        <th>average_basic_life</th>\n",
       "        <th>average_benefit_cost</th>\n",
       "        <th>benefits_plan</th>\n",
       "    </tr>\n",
       "    <tr>\n",
       "        <td>3</td>\n",
       "        <td>2013</td>\n",
       "        <td>Zoo</td>\n",
       "        <td>Light Equipment Operator</td>\n",
       "        <td>Full Time</td>\n",
       "        <td>30.23</td>\n",
       "        <td>63126.77</td>\n",
       "        <td>15319.59</td>\n",
       "        <td>17762.14</td>\n",
       "        <td>15601.85</td>\n",
       "        <td>18233.32</td>\n",
       "        <td>5924.08</td>\n",
       "        <td>0.00</td>\n",
       "        <td>66916.90</td>\n",
       "        <td>60992.82</td>\n",
       "        <td>3446.79</td>\n",
       "        <td>1677.29</td>\n",
       "        <td>800.00</td>\n",
       "        <td>0.00</td>\n",
       "        <td>0.00</td>\n",
       "        <td>0.00</td>\n",
       "        <td>5924.08</td>\n",
       "        <td>3523</td>\n",
       "        <td>10710.24</td>\n",
       "        <td>405.24</td>\n",
       "        <td>11.40</td>\n",
       "        <td>11126.88</td>\n",
       "        <td>City</td>\n",
       "    </tr>\n",
       "    <tr>\n",
       "        <td>6</td>\n",
       "        <td>2013</td>\n",
       "        <td>Public Works - Sanitation</td>\n",
       "        <td>Civil Engineering Associate II</td>\n",
       "        <td>Full Time</td>\n",
       "        <td>45.60</td>\n",
       "        <td>95212.80</td>\n",
       "        <td>20937.60</td>\n",
       "        <td>24427.20</td>\n",
       "        <td>21729.60</td>\n",
       "        <td>25536.00</td>\n",
       "        <td>0.00</td>\n",
       "        <td>0.00</td>\n",
       "        <td>92630.40</td>\n",
       "        <td>92630.40</td>\n",
       "        <td>0.00</td>\n",
       "        <td>0.00</td>\n",
       "        <td>0.00</td>\n",
       "        <td>0.00</td>\n",
       "        <td>0.00</td>\n",
       "        <td>0.00</td>\n",
       "        <td>0.00</td>\n",
       "        <td>7246</td>\n",
       "        <td>10710.24</td>\n",
       "        <td>405.24</td>\n",
       "        <td>11.40</td>\n",
       "        <td>11126.88</td>\n",
       "        <td>City</td>\n",
       "    </tr>\n",
       "    <tr>\n",
       "        <td>7</td>\n",
       "        <td>2013</td>\n",
       "        <td>Water And Power (DWP)</td>\n",
       "        <td>Construction Helper</td>\n",
       "        <td>Full Time</td>\n",
       "        <td>0.00</td>\n",
       "        <td>59278.32</td>\n",
       "        <td>19260.07</td>\n",
       "        <td>15752.00</td>\n",
       "        <td>0.00</td>\n",
       "        <td>0.00</td>\n",
       "        <td>13435.67</td>\n",
       "        <td>0.01</td>\n",
       "        <td>35012.07</td>\n",
       "        <td>21576.40</td>\n",
       "        <td>0.00</td>\n",
       "        <td>0.00</td>\n",
       "        <td>0.00</td>\n",
       "        <td>0.00</td>\n",
       "        <td>723.95</td>\n",
       "        <td>12711.72</td>\n",
       "        <td>12711.72</td>\n",
       "        <td>941</td>\n",
       "        <td>15860.53</td>\n",
       "        <td>1250.49</td>\n",
       "        <td>0.00</td>\n",
       "        <td>17111.02</td>\n",
       "        <td>DWP</td>\n",
       "    </tr>\n",
       "</table>"
      ],
      "text/plain": [
       "[(3, 2013, 'Zoo', 'Light Equipment Operator', 'Full Time', Decimal('30.23'), Decimal('63126.77'), Decimal('15319.59'), Decimal('17762.14'), Decimal('15601.85'), Decimal('18233.32'), Decimal('5924.08'), Decimal('0.00'), Decimal('66916.90'), Decimal('60992.82'), Decimal('3446.79'), Decimal('1677.29'), Decimal('800.00'), Decimal('0.00'), Decimal('0.00'), Decimal('0.00'), Decimal('5924.08'), 3523, Decimal('10710.24'), Decimal('405.24'), Decimal('11.40'), Decimal('11126.88'), 'City'),\n",
       " (6, 2013, 'Public Works - Sanitation', 'Civil Engineering Associate II', 'Full Time', Decimal('45.60'), Decimal('95212.80'), Decimal('20937.60'), Decimal('24427.20'), Decimal('21729.60'), Decimal('25536.00'), Decimal('0.00'), Decimal('0.00'), Decimal('92630.40'), Decimal('92630.40'), Decimal('0.00'), Decimal('0.00'), Decimal('0.00'), Decimal('0.00'), Decimal('0.00'), Decimal('0.00'), Decimal('0.00'), 7246, Decimal('10710.24'), Decimal('405.24'), Decimal('11.40'), Decimal('11126.88'), 'City'),\n",
       " (7, 2013, 'Water And Power (DWP)', 'Construction Helper', 'Full Time', Decimal('0.00'), Decimal('59278.32'), Decimal('19260.07'), Decimal('15752.00'), Decimal('0.00'), Decimal('0.00'), Decimal('13435.67'), Decimal('0.01'), Decimal('35012.07'), Decimal('21576.40'), Decimal('0.00'), Decimal('0.00'), Decimal('0.00'), Decimal('0.00'), Decimal('723.95'), Decimal('12711.72'), Decimal('12711.72'), 941, Decimal('15860.53'), Decimal('1250.49'), Decimal('0.00'), Decimal('17111.02'), 'DWP')]"
      ]
     },
     "execution_count": 40,
     "metadata": {},
     "output_type": "execute_result"
    }
   ],
   "source": [
    "%%sql\n",
    "SELECT * FROM employee_info\n",
    "limit 3;"
   ]
  },
  {
   "cell_type": "markdown",
   "metadata": {},
   "source": [
    "Create database tables  based on the following schema, and load the dataset into it. "
   ]
  },
  {
   "cell_type": "markdown",
   "metadata": {},
   "source": [
    "* `years` `(year_key,year)`\n",
    "* `department` `(department_key,department_title)`\n",
    "* `employment` `(employment_key,job_class_title,employment_type)`\n",
    "* `payment_fact` `(year_key,department_key,employment_key,total_payments,base_pay,q1_payments,q2_payments,`\n",
    " `q3_payments,q4_payments,permanent_bonus_pay,overtime_pay)`\n",
    "                "
   ]
  },
  {
   "cell_type": "markdown",
   "metadata": {},
   "source": [
    "### 2-1  Create Fact Table -- payment_fact"
   ]
  },
  {
   "cell_type": "code",
   "execution_count": 41,
   "metadata": {},
   "outputs": [
    {
     "name": "stdout",
     "output_type": "stream",
     "text": [
      " * postgresql://student@/project\n",
      "Done.\n",
      "Done.\n"
     ]
    },
    {
     "data": {
      "text/plain": [
       "[]"
      ]
     },
     "execution_count": 41,
     "metadata": {},
     "output_type": "execute_result"
    }
   ],
   "source": [
    "%%sql\n",
    "DROP TABLE IF EXISTS payment_fact;\n",
    "\n",
    "CREATE TABLE payment_fact (\n",
    "    ID INTEGER,\n",
    "    year INTEGER,\n",
    "    department_title VARCHAR(100),\n",
    "    job_class_title VARCHAR(500),\n",
    "    employment_type VARCHAR(500),\n",
    "    hourly_or_event_rate NUMERIC(20,2),\n",
    "    projected_annual_salary NUMERIC(20,2),\n",
    "    Q1_payments NUMERIC(20,2),\n",
    "    Q2_payments NUMERIC(20,2),\n",
    "    Q3_payments NUMERIC(20,2),\n",
    "    Q4_payments NUMERIC(20,2),\n",
    "    payment_over_base_pay NUMERIC(20,2),\n",
    "    percent_over_base_pay NUMERIC(20,2),\n",
    "    total_payments NUMERIC(20,2),\n",
    "    base_pay NUMERIC(20,2),\n",
    "    permanent_bonus_pay NUMERIC(20,2),\n",
    "    longevity_bonus_pay NUMERIC(20,2),\n",
    "    temporary_bonus_pay NUMERIC(20,2),\n",
    "    lump_sum_pay NUMERIC(20,2),\n",
    "    overtime_pay NUMERIC(20,2),\n",
    "    other_pay_adj NUMERIC(20,2),\n",
    "    other_pay NUMERIC(20,2),\n",
    "    job_class INTEGER,\n",
    "    average_health_cost NUMERIC(20,2),\n",
    "    average_dental_cost NUMERIC(20,2),\n",
    "    average_basic_life NUMERIC(20,2),\n",
    "    average_benefit_cost NUMERIC(20,2),\n",
    "    benefits_plan VARCHAR(50)\n",
    ")"
   ]
  },
  {
   "cell_type": "code",
   "execution_count": 42,
   "metadata": {},
   "outputs": [
    {
     "name": "stdout",
     "output_type": "stream",
     "text": [
      " * postgresql://student@/project\n",
      "369712 rows affected.\n"
     ]
    },
    {
     "data": {
      "text/plain": [
       "[]"
      ]
     },
     "execution_count": 42,
     "metadata": {},
     "output_type": "execute_result"
    }
   ],
   "source": [
    "%%sql\n",
    "INSERT INTO payment_fact\n",
    "SELECT * FROM employee_info"
   ]
  },
  {
   "cell_type": "markdown",
   "metadata": {},
   "source": [
    "### 2-2  Create Dimensions Tables  -- years,department,employment,benefit_plan"
   ]
  },
  {
   "cell_type": "markdown",
   "metadata": {},
   "source": [
    "#### 2-2-1  Create department table  -- department (department_key,department_title)"
   ]
  },
  {
   "cell_type": "code",
   "execution_count": 43,
   "metadata": {},
   "outputs": [
    {
     "name": "stdout",
     "output_type": "stream",
     "text": [
      " * postgresql://student@/project\n",
      "Done.\n",
      "Done.\n"
     ]
    },
    {
     "data": {
      "text/plain": [
       "[]"
      ]
     },
     "execution_count": 43,
     "metadata": {},
     "output_type": "execute_result"
    }
   ],
   "source": [
    "%%sql\n",
    "DROP TABLE IF EXISTS department;\n",
    "\n",
    "CREATE TABLE department (\n",
    "    department_key SERIAL PRIMARY KEY,\n",
    "    department_title VARCHAR(500));"
   ]
  },
  {
   "cell_type": "code",
   "execution_count": 44,
   "metadata": {},
   "outputs": [
    {
     "name": "stdout",
     "output_type": "stream",
     "text": [
      " * postgresql://student@/project\n",
      "89 rows affected.\n"
     ]
    },
    {
     "data": {
      "text/plain": [
       "[]"
      ]
     },
     "execution_count": 44,
     "metadata": {},
     "output_type": "execute_result"
    }
   ],
   "source": [
    "%%sql\n",
    "INSERT INTO department (department_title)\n",
    "SELECT DISTINCT department_title\n",
    "FROM payment_fact;"
   ]
  },
  {
   "cell_type": "markdown",
   "metadata": {},
   "source": [
    "#### 2-2-2  Create employment table  -- employment (employment_key,job_class_title,employment_type)"
   ]
  },
  {
   "cell_type": "code",
   "execution_count": 45,
   "metadata": {},
   "outputs": [
    {
     "name": "stdout",
     "output_type": "stream",
     "text": [
      " * postgresql://student@/project\n",
      "Done.\n",
      "Done.\n"
     ]
    },
    {
     "data": {
      "text/plain": [
       "[]"
      ]
     },
     "execution_count": 45,
     "metadata": {},
     "output_type": "execute_result"
    }
   ],
   "source": [
    "%%sql\n",
    "DROP TABLE IF EXISTS employment;\n",
    "\n",
    "CREATE TABLE employment (\n",
    "    employment_key SERIAL PRIMARY KEY,\n",
    "    job_class_title VARCHAR(500),\n",
    "    employment_type VARCHAR(100)\n",
    ");"
   ]
  },
  {
   "cell_type": "code",
   "execution_count": 46,
   "metadata": {},
   "outputs": [
    {
     "name": "stdout",
     "output_type": "stream",
     "text": [
      " * postgresql://student@/project\n",
      "1878 rows affected.\n"
     ]
    },
    {
     "data": {
      "text/plain": [
       "[]"
      ]
     },
     "execution_count": 46,
     "metadata": {},
     "output_type": "execute_result"
    }
   ],
   "source": [
    "%%sql\n",
    "INSERT INTO employment (job_class_title, employment_type)\n",
    "SELECT DISTINCT job_class_title, employment_type\n",
    "FROM payment_fact;"
   ]
  },
  {
   "cell_type": "markdown",
   "metadata": {},
   "source": [
    "#### 2-2-3  Create years table  -- years (year_key,year)"
   ]
  },
  {
   "cell_type": "code",
   "execution_count": 47,
   "metadata": {},
   "outputs": [
    {
     "name": "stdout",
     "output_type": "stream",
     "text": [
      " * postgresql://student@/project\n",
      "Done.\n",
      "Done.\n"
     ]
    },
    {
     "data": {
      "text/plain": [
       "[]"
      ]
     },
     "execution_count": 47,
     "metadata": {},
     "output_type": "execute_result"
    }
   ],
   "source": [
    "%%sql\n",
    "DROP TABLE IF EXISTS years;\n",
    "\n",
    "CREATE TABLE years (\n",
    "    year_key SERIAL PRIMARY KEY,\n",
    "    year INTEGER\n",
    ");"
   ]
  },
  {
   "cell_type": "code",
   "execution_count": 48,
   "metadata": {},
   "outputs": [
    {
     "name": "stdout",
     "output_type": "stream",
     "text": [
      " * postgresql://student@/project\n",
      "6 rows affected.\n"
     ]
    },
    {
     "data": {
      "text/plain": [
       "[]"
      ]
     },
     "execution_count": 48,
     "metadata": {},
     "output_type": "execute_result"
    }
   ],
   "source": [
    "%%sql\n",
    "INSERT INTO years (year)\n",
    "SELECT DISTINCT year\n",
    "FROM employee_info\n",
    "ORDER BY year;"
   ]
  },
  {
   "cell_type": "markdown",
   "metadata": {},
   "source": [
    "#### 2-2-4  Create index to speed up"
   ]
  },
  {
   "cell_type": "code",
   "execution_count": 49,
   "metadata": {},
   "outputs": [
    {
     "name": "stdout",
     "output_type": "stream",
     "text": [
      " * postgresql://student@/project\n",
      "Done.\n",
      "Done.\n"
     ]
    },
    {
     "data": {
      "text/plain": [
       "[]"
      ]
     },
     "execution_count": 49,
     "metadata": {},
     "output_type": "execute_result"
    }
   ],
   "source": [
    "%%sql\n",
    "DROP INDEX IF EXISTS idx_department;\n",
    "\n",
    "CREATE INDEX idx_department ON department (department_title);"
   ]
  },
  {
   "cell_type": "code",
   "execution_count": 50,
   "metadata": {},
   "outputs": [
    {
     "name": "stdout",
     "output_type": "stream",
     "text": [
      " * postgresql://student@/project\n",
      "Done.\n",
      "Done.\n"
     ]
    },
    {
     "data": {
      "text/plain": [
       "[]"
      ]
     },
     "execution_count": 50,
     "metadata": {},
     "output_type": "execute_result"
    }
   ],
   "source": [
    "%%sql\n",
    "DROP INDEX IF EXISTS idx_employment;\n",
    "\n",
    "CREATE INDEX idx_employment ON employment (job_class_title,employment_type);"
   ]
  },
  {
   "cell_type": "markdown",
   "metadata": {},
   "source": [
    "#### 2-2-5  Link dimensions to fact with Surrogate Keys"
   ]
  },
  {
   "cell_type": "code",
   "execution_count": 51,
   "metadata": {},
   "outputs": [
    {
     "name": "stdout",
     "output_type": "stream",
     "text": [
      " * postgresql://student@/project\n",
      "Done.\n",
      "Done.\n",
      "Done.\n"
     ]
    },
    {
     "data": {
      "text/plain": [
       "[]"
      ]
     },
     "execution_count": 51,
     "metadata": {},
     "output_type": "execute_result"
    }
   ],
   "source": [
    "%%sql\n",
    "ALTER TABLE payment_fact\n",
    "ADD COLUMN year_key INTEGER,\n",
    "ADD CONSTRAINT fk_year_key\n",
    "    FOREIGN KEY (year_key)\n",
    "    REFERENCES years (year_key);\n",
    "    \n",
    "ALTER TABLE payment_fact \n",
    "ADD COLUMN department_key INTEGER,\n",
    "ADD CONSTRAINT fk_department_key\n",
    "    FOREIGN KEY (department_key)\n",
    "    REFERENCES department (department_key);\n",
    "    \n",
    "ALTER TABLE payment_fact\n",
    "ADD COLUMN employment_key INTEGER,\n",
    "ADD CONSTRAINT fk_employment_key\n",
    "    FOREIGN KEY (employment_key)\n",
    "    REFERENCES employment (employment_key);"
   ]
  },
  {
   "cell_type": "code",
   "execution_count": null,
   "metadata": {},
   "outputs": [
    {
     "name": "stdout",
     "output_type": "stream",
     "text": [
      " * postgresql://student@/project\n",
      "369712 rows affected.\n",
      "369712 rows affected.\n"
     ]
    }
   ],
   "source": [
    "%%sql\n",
    "UPDATE payment_fact\n",
    "SET year_key = years.year_key\n",
    "FROM years\n",
    "WHERE payment_fact.year = years.year;\n",
    "\n",
    "UPDATE payment_fact\n",
    "SET department_key = department.department_key\n",
    "FROM department\n",
    "WHERE payment_fact.department_title = department.department_title;\n",
    "\n",
    "UPDATE payment_fact\n",
    "SET employment_key = employment.employment_key\n",
    "FROM employment\n",
    "WHERE payment_fact.job_class_title = employment.job_class_title\n",
    "AND payment_fact.employment_type = employment.employment_type;"
   ]
  },
  {
   "cell_type": "code",
   "execution_count": null,
   "metadata": {},
   "outputs": [],
   "source": [
    "# drop unnecessary columns"
   ]
  },
  {
   "cell_type": "code",
   "execution_count": null,
   "metadata": {},
   "outputs": [],
   "source": [
    "%%sql\n",
    "ALTER TABLE payment_fact\n",
    "DROP COLUMN id,\n",
    "DROP COLUMN year,\n",
    "DROP COLUMN department_title,\n",
    "DROP COLUMN job_class_title,\n",
    "DROP COLUMN employment_type,\n",
    "DROP COLUMN hourly_or_event_rate,\n",
    "DROP COLUMN projected_annual_salary,\n",
    "DROP COLUMN payment_over_base_pay,\n",
    "DROP COLUMN percent_over_base_pay,\n",
    "DROP COLUMN temporary_bonus_pay,\n",
    "DROP COLUMN lump_sum_pay,\n",
    "DROP COLUMN other_pay_adj,\n",
    "DROP COLUMN other_pay,\n",
    "DROP COLUMN job_class,\n",
    "DROP COLUMN average_health_cost,\n",
    "DROP COLUMN average_dental_cost,\n",
    "DROP COLUMN average_basic_life,\n",
    "DROP COLUMN longevity_bonus_pay,\n",
    "DROP COLUMN average_benefit_cost,\n",
    "DROP COLUMN benefits_plan;"
   ]
  },
  {
   "cell_type": "code",
   "execution_count": null,
   "metadata": {},
   "outputs": [],
   "source": [
    "# take a look at the fact table"
   ]
  },
  {
   "cell_type": "code",
   "execution_count": null,
   "metadata": {},
   "outputs": [],
   "source": [
    "%%sql\n",
    "select * from payment_fact\n",
    "limit 5"
   ]
  },
  {
   "cell_type": "markdown",
   "metadata": {},
   "source": [
    "# Part 3 - Analysis \n",
    "\n",
    "Explore and analyze your data in its wrangled form. Follow through on the themes you identified in Part 1 with queries or scripts that answer the questions you had in mind. Be clear about the answers you discover, discussing them and whether the results match your expectations. Include charts or other visuals that support your analysis. You may use Tableau, matplotlib, ggplot, or other tools we have not covered in class for visualization (and only for visualization), but be sure to export images from those tools and to include any images properly in your notebook writeup and slides."
   ]
  },
  {
   "cell_type": "markdown",
   "metadata": {},
   "source": [
    "In order to be more clear about our following analysis process, we here depict our analysis structure with the following picture."
   ]
  },
  {
   "cell_type": "code",
   "execution_count": null,
   "metadata": {},
   "outputs": [],
   "source": [
    "Image(url=\"https://github.com/jiaruxu233/istm6212/blob/master/structure.jpg?raw=true\")  "
   ]
  },
  {
   "cell_type": "code",
   "execution_count": null,
   "metadata": {},
   "outputs": [],
   "source": [
    "%matplotlib inline"
   ]
  },
  {
   "cell_type": "markdown",
   "metadata": {},
   "source": [
    "## a. by year"
   ]
  },
  {
   "cell_type": "code",
   "execution_count": null,
   "metadata": {},
   "outputs": [],
   "source": [
    "%%sql\n",
    "select years.year,round(avg(total_payments),2) as average_payment\n",
    "from payment_fact\n",
    "join years on years.year_key=payment_fact.year_key\n",
    "group by years.year_key\n",
    "order by years.year asc;"
   ]
  },
  {
   "cell_type": "code",
   "execution_count": null,
   "metadata": {},
   "outputs": [],
   "source": [
    "_.bar()"
   ]
  },
  {
   "cell_type": "markdown",
   "metadata": {},
   "source": [
    "Total payments in different year have not different changes,therefore year is the unnecessary variable to us to analyze the overall picture fluctuate through years.There is not a distincitve pattern over how the average payment changes, but in recent year, there is a clear drop in the average payment。"
   ]
  },
  {
   "cell_type": "code",
   "execution_count": null,
   "metadata": {},
   "outputs": [],
   "source": [
    "%%sql\n",
    "select  years.year,round(avg(base_pay),2) as average_base_pay\n",
    "from payment_fact\n",
    "join years on years.year_key=payment_fact.year_key\n",
    "group by years.year_key\n",
    "order by years.year asc\n",
    "limit 10;"
   ]
  },
  {
   "cell_type": "code",
   "execution_count": null,
   "metadata": {},
   "outputs": [],
   "source": [
    "_.bar()"
   ]
  },
  {
   "cell_type": "code",
   "execution_count": null,
   "metadata": {},
   "outputs": [],
   "source": [
    "%%sql\n",
    "select  years.year,round(avg(overtime_pay),2) as average_overtime_pay\n",
    "from payment_fact\n",
    "join years on years.year_key=payment_fact.year_key\n",
    "group by years.year_key\n",
    "order by years.year asc\n",
    "limit 10;"
   ]
  },
  {
   "cell_type": "code",
   "execution_count": null,
   "metadata": {},
   "outputs": [],
   "source": [
    "_.bar()"
   ]
  },
  {
   "cell_type": "markdown",
   "metadata": {},
   "source": [
    "As for the average time pay, it increased from year 2013 to year 2017. Considering that currently we have no access to the data of the fourth quarter in 2018, we temporarily ignore the last column."
   ]
  },
  {
   "cell_type": "markdown",
   "metadata": {},
   "source": [
    "The overall changes seem to give little information, so we have to dig deeper to analyze the patterns between data."
   ]
  },
  {
   "cell_type": "markdown",
   "metadata": {},
   "source": [
    "## b.by department"
   ]
  },
  {
   "cell_type": "markdown",
   "metadata": {},
   "source": [
    "After analyzing the overall fluctuations of average base pay, overtime payment and total payment from year 2013 to year 2018, we discovered that these differences between years are relatively small. Then we moved on to explore the data into details. \n",
    "\n",
    "This part is combined by two elements, which are the departments with highest average different types of payments and influences of different employment types on salaries in different departments.\n"
   ]
  },
  {
   "cell_type": "markdown",
   "metadata": {},
   "source": [
    "### b-1 payment type"
   ]
  },
  {
   "cell_type": "markdown",
   "metadata": {},
   "source": [
    "First of all, we tried to find out departments with highest average total payment, base payment and overtime payments. We also combined the influence of years to confirm the analysis in the overall year fluctuations and to eliminate the possibilities of results caused by outliers."
   ]
  },
  {
   "cell_type": "markdown",
   "metadata": {},
   "source": [
    "#### b-1-1 total pay"
   ]
  },
  {
   "cell_type": "markdown",
   "metadata": {},
   "source": [
    "Firstly, we were curious about the departments with top 10 high payments."
   ]
  },
  {
   "cell_type": "code",
   "execution_count": null,
   "metadata": {},
   "outputs": [],
   "source": [
    "%%sql\n",
    "select years.year,department.department_title,round(avg(total_payments),2) as average_total_payments\n",
    "from payment_fact\n",
    "join years on payment_fact.year_key=years.year_key\n",
    "join department on department.department_key=payment_fact.department_key\n",
    "group by department.department_title,years.year\n",
    "order by avg(total_payments) desc\n",
    "limit 10;"
   ]
  },
  {
   "cell_type": "code",
   "execution_count": null,
   "metadata": {},
   "outputs": [],
   "source": [
    "_.bar()"
   ]
  },
  {
   "cell_type": "markdown",
   "metadata": {},
   "source": [
    "In this table, we take the influence of years into consideration. We can see from this table, Public Accountability, Fire, City Attorney ranked top 3. Due to lack of detailed information, we decided to conduct further analysis on base payment and overtime payments for these departments later.\n",
    "\n",
    "We observe that the Los Angeles Department of Convention and Tourism Development shows up in this chart. However, this department did not appear in our former analysis when we take the average of annual payment for each department, so we think a possible reason for this pattern could be tourism in LA reachs a peak in these two years. "
   ]
  },
  {
   "cell_type": "code",
   "execution_count": null,
   "metadata": {},
   "outputs": [],
   "source": [
    "import matplotlib.pyplot as plt\n",
    "\n",
    "# Data to plot\n",
    "labels = 'Fire', 'Public Accountability', 'Los Angeles Department of Convention and Tourism Development', 'City Attorney'\n",
    "sizes = [6, 2, 1, 1]\n",
    "colors = ['gold', 'yellowgreen', 'lightcoral', 'lightskyblue']\n",
    "explode = (0.1, 0, 0, 0) \n",
    "plt.pie(sizes, explode=explode, labels=labels, colors=colors,\n",
    "        autopct='%1.1f%%', shadow=True, startangle=140)\n",
    " \n",
    "plt.axis('equal')\n",
    "plt.show()\n"
   ]
  },
  {
   "cell_type": "markdown",
   "metadata": {},
   "source": [
    "When we put the influence of years into consideration, the fire department occupied the largest proportion in the top 10 departments. The public accountability's average total payments in year 2017 and year 2018 are still ranked in top10. We were interested in this two departments’ outstanding performances. Next part, we conducted analysis on base pay."
   ]
  },
  {
   "cell_type": "markdown",
   "metadata": {},
   "source": [
    "#### b-1-2 base pay "
   ]
  },
  {
   "cell_type": "code",
   "execution_count": null,
   "metadata": {},
   "outputs": [],
   "source": [
    "%%sql\n",
    "select department.department_title,round(avg(base_pay),2) as average_base_payment\n",
    "from payment_fact\n",
    "join department on department.department_key=payment_fact.department_key\n",
    "group by department.department_title\n",
    "order by avg(base_pay) desc\n",
    "limit 10;"
   ]
  },
  {
   "cell_type": "code",
   "execution_count": null,
   "metadata": {},
   "outputs": [],
   "source": [
    "_.bar()"
   ]
  },
  {
   "cell_type": "markdown",
   "metadata": {},
   "source": [
    "From the above table, we find that Public Accountability's base pay is significantly higher than other departments, which agreed with our previous finding that this department has the highest average total payment. There are very few people who worked for this department, and we think it's because their job characteristics. \n",
    "On the other hand, fire department's average base pay is lower than city attorney and city administrative officer, while in previous analysis, fire's total payment is ranked at top 2. This draw us into thinking that the bonus (pay above base pay) plays a huge role in salary for Fire, similar to Police and Fire(LAFD), and there is a big difference between Fire and Police when we sort total payment. \n"
   ]
  },
  {
   "cell_type": "code",
   "execution_count": null,
   "metadata": {},
   "outputs": [],
   "source": [
    "%%sql\n",
    "select years.year,department.department_title,round(avg(base_pay),2) as average_payment\n",
    "from payment_fact\n",
    "join years on payment_fact.year_key=years.year_key\n",
    "join department on department.department_key=payment_fact.department_key\n",
    "group by department.department_title,years.year\n",
    "order by avg(base_pay) desc\n",
    "limit 10;\n"
   ]
  },
  {
   "cell_type": "markdown",
   "metadata": {},
   "source": [
    "We observe that the Los Angeles Department of Convention and Tourism Development shows up in this chart again in year 2016 and 2017, so we did a little background research that visitors in 2017 reached 48.3 millions (https://www.latimes.com/business/la-fi-la-tourism-20180110-story.html), a huge increase from previous years, which explains why this specific department has a particular high payment in this calendar year.\n",
    "\n",
    "\n"
   ]
  },
  {
   "cell_type": "code",
   "execution_count": null,
   "metadata": {},
   "outputs": [],
   "source": [
    "# Data to plot\n",
    "import matplotlib.pyplot as plt\n",
    "labels = 'City Attorney', 'Public Accountability', 'Los Angeles Department of Convention and Tourism Development', 'City Administrative Officer'\n",
    "sizes = [5, 2, 2, 1]\n",
    "colors = ['gold', 'yellowgreen', 'lightcoral', 'lightskyblue']\n",
    "explode = (0.1, 0, 0, 0) \n",
    "plt.pie(sizes, explode=explode, labels=labels, colors=colors,\n",
    "        autopct='%1.1f%%', shadow=True, startangle=140)\n",
    " \n",
    "plt.axis('equal')\n",
    "plt.show()\n"
   ]
  },
  {
   "cell_type": "markdown",
   "metadata": {},
   "source": [
    "We also took the influence of years into consideration. The results of this table are slightly different from the former table. Actually, city attorney ranked in top10 in 2013,2014,2015,2016 and occupied the largest proportion. Public accountability occupied 1st and 2nd place in this table and this phenomenon is consistent with the former result.\n",
    "\n",
    "After analyzing the base payment, we explored the fluctuations of overtime payments.\n"
   ]
  },
  {
   "cell_type": "markdown",
   "metadata": {},
   "source": [
    "#### b-1-3 overtime pay"
   ]
  },
  {
   "cell_type": "markdown",
   "metadata": {},
   "source": [
    "Have already explored the average base pay and total payments, we moved on to the overtime payments."
   ]
  },
  {
   "cell_type": "code",
   "execution_count": null,
   "metadata": {},
   "outputs": [],
   "source": [
    "%%sql\n",
    "select department.department_title,round(avg(overtime_pay),2) as average_overtime_payment\n",
    "from payment_fact\n",
    "join department on department.department_key=payment_fact.department_key\n",
    "group by department.department_title\n",
    "order by avg(overtime_pay) desc\n",
    "limit 10;"
   ]
  },
  {
   "cell_type": "code",
   "execution_count": null,
   "metadata": {},
   "outputs": [],
   "source": [
    "_.bar()"
   ]
  },
  {
   "cell_type": "markdown",
   "metadata": {},
   "source": [
    "Surprisingly, Fire has a significantly higher overtime pay than the other department, almost four times as the water and power. While police does not have a very high over time pay, which explains why in total payments, it is lower than Fire department. Another interesting finding is the top 10 department are all related with service job."
   ]
  },
  {
   "cell_type": "code",
   "execution_count": null,
   "metadata": {},
   "outputs": [],
   "source": [
    "%%sql\n",
    "select years.year,department.department_title,round(avg(overtime_pay),2) as average_overtime_payment\n",
    "from payment_fact\n",
    "join years on payment_fact.year_key=years.year_key\n",
    "join department on department.department_key=payment_fact.department_key\n",
    "group by department.department_title,years.year\n",
    "order by avg(overtime_pay) desc\n",
    "limit 10;\n"
   ]
  },
  {
   "cell_type": "code",
   "execution_count": null,
   "metadata": {},
   "outputs": [],
   "source": [
    "year1 = [2013, 2014, 2015, 2016, 2017, 2018]\n",
    "data1 = [39534.75, 45772.91,50618.16 , 47914.62, 49943.76, 37388.08]\n",
    "year2 =[ 2015, 2016,2017, 2018] \n",
    "data2=[ 14906.04, 14796.30,14996.30, 13914.53]\n",
    "plt.plot(year1, data1, color='g',label=\"Fire\")\n",
    "plt.plot(year2, data2, color='orange',label=\"Water And Power (DWP)\")\n",
    "plt.legend()\n",
    "plt.xlabel('year')\n",
    "plt.ylabel('average_overtime_payment')"
   ]
  },
  {
   "cell_type": "markdown",
   "metadata": {},
   "source": [
    "Next, we explored this problem into details based on different years. The results are completely the same to the former table. After some survey, we found out that the high overtime payment of these two department are determined by an important factor 24/7 operation hours. We also associated this phenomenon with the California's weather and frequent mountain fires, which requires fire department to make contributions. Dry and hot weather also need the efforts of the department of water and power.\n",
    "\n",
    "Also, now we can answer the question why fire department with relatively low base payment can have high total payments. The overtime payments make great contributions on the salary.\n"
   ]
  },
  {
   "cell_type": "markdown",
   "metadata": {},
   "source": [
    "### b-2 employment type"
   ]
  },
  {
   "cell_type": "markdown",
   "metadata": {},
   "source": [
    "Secondly, we conducted analysis about average base pay, overtime payment and total payment of different departments based on different employment types."
   ]
  },
  {
   "cell_type": "code",
   "execution_count": null,
   "metadata": {},
   "outputs": [],
   "source": [
    "%%sql\n",
    "select employment.employment_type,round(avg(total_payments),2) as average_payment,round(avg(base_pay),2) as average_base_pay,round(avg(overtime_pay),2) as average_overtime_pay\n",
    "from payment_fact\n",
    "join employment on employment.employment_key=payment_fact.employment_key\n",
    "group by employment.employment_type\n",
    "order by avg(total_payments) desc;"
   ]
  },
  {
   "cell_type": "code",
   "execution_count": null,
   "metadata": {},
   "outputs": [],
   "source": [
    "type1=['full time','part time','per event']\n",
    "data1=[92844.28,75388.67,10325.24]\n",
    "data2=[10048.41,9521.76,37.08]\n",
    "data3=[4904.18,4887.43,0.00]\n",
    "plt.plot(type1, data1, color='g',label=\"average_payment\")\n",
    "plt.plot(type1, data2, color='orange',label=\"average_base_pay\")\n",
    "plt.plot(type1, data3, color='red',label=\"average_overtime_pay\")\n",
    "plt.legend()\n",
    "plt.xlabel('type')\n",
    "plt.ylabel('payment')"
   ]
  },
  {
   "cell_type": "markdown",
   "metadata": {},
   "source": [
    "At first, let us take a first glance of the overall distribution of these payments. There is no doubt that full time employees have the highest payments in all categories, and part-time employees ranked 2nd.\n"
   ]
  },
  {
   "cell_type": "markdown",
   "metadata": {},
   "source": [
    "Then we explored the data into details based on different department."
   ]
  },
  {
   "cell_type": "markdown",
   "metadata": {},
   "source": [
    "#### b-2-1 full-time"
   ]
  },
  {
   "cell_type": "code",
   "execution_count": null,
   "metadata": {},
   "outputs": [],
   "source": [
    "%%sql\n",
    "select department.department_title,round(avg(total_payments),2) as average_payment\n",
    "from payment_fact\n",
    "join department on department.department_key=payment_fact.department_key\n",
    "join employment on employment.employment_key=payment_fact.employment_key\n",
    "where employment.employment_type = 'Full Time'\n",
    "group by department.department_title\n",
    "order by avg(total_payments) desc\n",
    "limit 10;"
   ]
  },
  {
   "cell_type": "code",
   "execution_count": null,
   "metadata": {},
   "outputs": [],
   "source": [
    "_.bar()"
   ]
  },
  {
   "cell_type": "markdown",
   "metadata": {},
   "source": [
    "Similar to former results, public accountability and fire department have the largest average total payments. Departments associated with social service offering high payments to their employees."
   ]
  },
  {
   "cell_type": "markdown",
   "metadata": {},
   "source": [
    "#### b-2-2 part-time"
   ]
  },
  {
   "cell_type": "markdown",
   "metadata": {},
   "source": [
    "Then we analyzed the role part time employees played in different departments."
   ]
  },
  {
   "cell_type": "code",
   "execution_count": null,
   "metadata": {},
   "outputs": [],
   "source": [
    "%%sql\n",
    "select department.department_title,round(avg(total_payments),2) as total_payment\n",
    "from payment_fact\n",
    "join department on department.department_key=payment_fact.department_key\n",
    "join employment on employment.employment_key=payment_fact.employment_key\n",
    "where employment.employment_type = 'Part Time'\n",
    "group by department.department_title\n",
    "order by avg(total_payments) desc\n",
    "limit 10;"
   ]
  },
  {
   "cell_type": "code",
   "execution_count": null,
   "metadata": {},
   "outputs": [],
   "source": [
    "_.bar()"
   ]
  },
  {
   "cell_type": "markdown",
   "metadata": {},
   "source": [
    "We noticed that City Attorney, Office of the Chief Legislative Analyst , different council offered high average payments to their part-time employees. We conducted some research on these departments and found out they all related to laws and their have some interrelation between these departments. For example, City attorneys must hold a doctoral degree in law. They must also be licensed to practice law in the state where the city is located. And the City attorneys should give advice to council members. We assumed that some city attorney should be someone out of the government system in order to give wiser advice, so they hire part-time employees."
   ]
  },
  {
   "cell_type": "markdown",
   "metadata": {},
   "source": [
    "#### b-2-3 per event"
   ]
  },
  {
   "cell_type": "code",
   "execution_count": null,
   "metadata": {},
   "outputs": [],
   "source": [
    "%%sql\n",
    "select department.department_title,round(avg(total_payments),2) as avg_payment\n",
    "from payment_fact\n",
    "join department on department.department_key=payment_fact.department_key\n",
    "join employment on employment.employment_key=payment_fact.employment_key\n",
    "where employment.employment_type = 'Per Event'\n",
    "group by department.department_title\n",
    "order by avg(total_payments) desc\n",
    "limit 10;"
   ]
  },
  {
   "cell_type": "markdown",
   "metadata": {},
   "source": [
    "Finally, we found out that cultural affairs department tends to pay highest average payment to its per event employees. Employment relations board ranked 2nd. Also Recreation And Parks department ranked in top 10. We guessed that the main reason behind this phenomenon is these department do not give service to public routinely and only held big events."
   ]
  },
  {
   "cell_type": "markdown",
   "metadata": {},
   "source": [
    "## c - a deeper analysis over overtime payment across four departments"
   ]
  },
  {
   "cell_type": "markdown",
   "metadata": {},
   "source": [
    "### c-1 Fire"
   ]
  },
  {
   "cell_type": "markdown",
   "metadata": {},
   "source": [
    "First, we want to see the effect of employment type on salary performance in fire department."
   ]
  },
  {
   "cell_type": "code",
   "execution_count": null,
   "metadata": {},
   "outputs": [],
   "source": [
    "%%sql\n",
    "select employment.job_class_title,round(avg(overtime_pay),2) as overtime, \n",
    "round(avg(base_pay),2) as base_pay,round(avg(total_payments),2) as total\n",
    "from payment_fact\n",
    "join department on department.department_key=payment_fact.department_key\n",
    "join employment on employment.employment_key=payment_fact.employment_key\n",
    "where (employment.employment_type = 'Part Time' and department.department_title like '%Fire%')\n",
    "group by employment.job_class_title\n",
    "order by avg(overtime_pay) desc\n",
    "limit 10;\n"
   ]
  },
  {
   "cell_type": "code",
   "execution_count": null,
   "metadata": {},
   "outputs": [],
   "source": [
    "%%sql\n",
    "select employment.job_class_title,round(avg(overtime_pay),2) as overtime, \n",
    "round(avg(base_pay),2) as base_pay,round(avg(total_payments),2) as total\n",
    "from payment_fact\n",
    "join department on department.department_key=payment_fact.department_key\n",
    "join employment on employment.employment_key=payment_fact.employment_key\n",
    "where (employment.employment_type = 'Per Event' and department.department_title like '%Fire%')\n",
    "group by employment.job_class_title\n",
    "order by avg(overtime_pay) desc\n",
    "limit 10;\n"
   ]
  },
  {
   "cell_type": "markdown",
   "metadata": {},
   "source": [
    "From the result above, we can see that the overtime payment does not apply to these two employment types. So we decide to focus on full-time employment in fire department."
   ]
  },
  {
   "cell_type": "code",
   "execution_count": null,
   "metadata": {},
   "outputs": [],
   "source": [
    "%%sql\n",
    "select employment.job_class_title,round(avg(overtime_pay),2) as overtime, \n",
    "round(avg(base_pay),2) as base_pay,round(avg(total_payments),2) as total\n",
    "from payment_fact\n",
    "join department on department.department_key=payment_fact.department_key\n",
    "join employment on employment.employment_key=payment_fact.employment_key\n",
    "where (employment.employment_type = 'Full Time' and department.department_title like '%Fire%')\n",
    "group by employment.job_class_title\n",
    "order by avg(overtime_pay) desc\n",
    "limit 10;\n"
   ]
  },
  {
   "cell_type": "markdown",
   "metadata": {},
   "source": [
    "In Fire department, Fire Helicopter Pilot has the highest overtime pay, and the fireboat pilot has second highest overtime pay, it is reasonable since LA has a lot wide forest fire through out the year, helicopter is a major way to use in these cases. What’s more interesting is the overtime pay for fire helicopter pilot V and fireboat pilot  is even higher than their base payment. "
   ]
  },
  {
   "cell_type": "markdown",
   "metadata": {},
   "source": [
    "### c-2 Police"
   ]
  },
  {
   "cell_type": "code",
   "execution_count": null,
   "metadata": {},
   "outputs": [],
   "source": [
    "%%sql\n",
    "select employment.job_class_title,round(avg(overtime_pay),2) as overtime, \n",
    "round(avg(base_pay),2) as base_pay,round(avg(total_payments),2) as total\n",
    "from payment_fact\n",
    "join department on department.department_key=payment_fact.department_key\n",
    "join employment on employment.employment_key=payment_fact.employment_key\n",
    "where (employment.employment_type = 'Full Time' and department.department_title like '%Police%')\n",
    "group by employment.job_class_title\n",
    "order by avg(overtime_pay) desc\n",
    "limit 10;\n"
   ]
  },
  {
   "cell_type": "markdown",
   "metadata": {},
   "source": [
    "On the other hand, police has a general a lot lower overtime pay than Fire, the highest job title is police captain, followed by police surveillance specialist II, and general automotive supervisor. It is a little surprising to see principal fingerprint identification expert I ranked at NO.4 as it is an assistance position."
   ]
  },
  {
   "cell_type": "markdown",
   "metadata": {},
   "source": [
    "### c-3 Water and Power"
   ]
  },
  {
   "cell_type": "code",
   "execution_count": null,
   "metadata": {},
   "outputs": [],
   "source": [
    "%%sql\n",
    "select employment.job_class_title,round(avg(overtime_pay),2) as overtime, \n",
    "round(avg(base_pay),2) as base_pay,round(avg(total_payments),2) as total\n",
    "from payment_fact\n",
    "join department on department.department_key=payment_fact.department_key\n",
    "join employment on employment.employment_key=payment_fact.employment_key\n",
    "where (employment.employment_type = 'Full Time' and department.department_title like '%Water%')\n",
    "group by employment.job_class_title\n",
    "order by avg(overtime_pay) desc\n",
    "limit 10;"
   ]
  },
  {
   "cell_type": "markdown",
   "metadata": {},
   "source": [
    "Although Water and Power department ranked at NO.3 for overtime pay, its base pay is very low compare to fire and police, so it's total pay is lower than the other two groups, thus did not show in the rank for average total payment."
   ]
  },
  {
   "cell_type": "markdown",
   "metadata": {},
   "source": [
    "### c-4 Public Accountability"
   ]
  },
  {
   "cell_type": "code",
   "execution_count": null,
   "metadata": {},
   "outputs": [],
   "source": [
    "%%sql\n",
    "select employment.job_class_title,round(avg(overtime_pay),2) as overtime, \n",
    "round(avg(base_pay),2) as base_pay,round(avg(total_payments),2) as total\n",
    "from payment_fact\n",
    "join department on department.department_key=payment_fact.department_key\n",
    "join employment on employment.employment_key=payment_fact.employment_key\n",
    "where (employment.employment_type = 'Full Time' and department.department_title like '%Public Accountability%')\n",
    "group by employment.job_class_title\n",
    "order by avg(overtime_pay) desc\n",
    "limit 10;\n"
   ]
  },
  {
   "cell_type": "markdown",
   "metadata": {},
   "source": [
    "Public Accountability gets to rank at top 1 really because it has a high base pay."
   ]
  },
  {
   "cell_type": "markdown",
   "metadata": {},
   "source": [
    "### Permanent bonus "
   ]
  },
  {
   "cell_type": "code",
   "execution_count": null,
   "metadata": {},
   "outputs": [],
   "source": [
    "%%sql\n",
    "select employment.job_class_title,round(avg(permanent_bonus_pay),2) as permanent, \n",
    "round(avg(base_pay),2) as base_pay,round(avg(total_payments),2) as total\n",
    "from payment_fact\n",
    "join department on department.department_key=payment_fact.department_key\n",
    "join employment on employment.employment_key=payment_fact.employment_key\n",
    "where (employment.employment_type = 'Full Time' and department.department_title like '%Fire%')\n",
    "group by employment.job_class_title\n",
    "order by avg(permanent_bonus_pay) desc\n",
    "limit 10;"
   ]
  },
  {
   "cell_type": "code",
   "execution_count": null,
   "metadata": {},
   "outputs": [],
   "source": [
    "%%sql\n",
    "select employment.job_class_title,round(avg(permanent_bonus_pay),2) as permanent, \n",
    "round(avg(base_pay),2) as base_pay,round(avg(total_payments),2) as total\n",
    "from payment_fact\n",
    "join department on department.department_key=payment_fact.department_key\n",
    "join employment on employment.employment_key=payment_fact.employment_key\n",
    "where (employment.employment_type = 'Full Time' and department.department_title like '%Police%')\n",
    "group by employment.job_class_title\n",
    "order by avg(permanent_bonus_pay) desc\n",
    "limit 10;"
   ]
  },
  {
   "cell_type": "markdown",
   "metadata": {},
   "source": [
    "Both Fire and Police departments shows more advanced job title tend to have a higher permanent bonus pay. So there isn't many we can analyze through this lens. And the amount is generally slightly lower for Police than Fire department, which again shows the total payment for Fire would be higher than Police."
   ]
  },
  {
   "cell_type": "markdown",
   "metadata": {},
   "source": [
    "## d. Seasonality & Position"
   ]
  },
  {
   "cell_type": "markdown",
   "metadata": {},
   "source": [
    "After exploring the relationship between government payment with years,respective departments and job titles, we would prefer to probe deeper into the seasonality pattern and hierarchy relationships.With the former analysis, we still decide to focus on the following four departments:'Police','Fire','Public Accountability' and 'Water and Power' for this part.\n",
    "\n",
    "In order to fulfill our goal, in the following steps, we will first group by department and then focus on our distinctive targets."
   ]
  },
  {
   "cell_type": "markdown",
   "metadata": {},
   "source": [
    "### d-1   discover the seasonality parttern across department"
   ]
  },
  {
   "cell_type": "markdown",
   "metadata": {},
   "source": [
    "First, we would like to see if there is any pattern over seasonality over five years all through 2013 to 2018."
   ]
  },
  {
   "cell_type": "code",
   "execution_count": null,
   "metadata": {},
   "outputs": [],
   "source": [
    "%%sql\n",
    "SELECT  department.department_title,\n",
    "        round(avg(q1_payments),2) as q1,round(avg(q2_payments),2) as q2,\n",
    "        round(avg(q3_payments),2) as q3,round(avg(q4_payments),2) as q4,\n",
    "        round(avg(total_payments),2) as total \n",
    "FROM    payment_fact \n",
    "join department on department.department_key=payment_fact.department_key\n",
    "INNER JOIN\n",
    "        (\n",
    "            SELECT  'Police' col\n",
    "            UNION SELECT  'Fire'\n",
    "            UNION SELECT  'Public Accountability'\n",
    "            UNION SELECT  '%DWP%'\n",
    "            \n",
    "\n",
    "        ) List ON department.department_title LIKE List.Col\n",
    "    \n",
    "group by department.department_title;"
   ]
  },
  {
   "cell_type": "markdown",
   "metadata": {},
   "source": [
    "From the result above, we can see that in all out selected four departments, the payments in quarter 4 all drop dramatically. In order to figure out the reason behind this peculiar result, we tried to think of the possible reasons. However, hard to make a reasonable explanation. Therefore, we decide to take a further look into our original dataset and it turns out to be that there are many incomplete record for the fourth quarter in 2018 with 0 instead which drag the average result behind.\n",
    "\n",
    "With this understanding, we decide to make a year filter in all following steps in order to avoid the influence of incomplete records."
   ]
  },
  {
   "cell_type": "code",
   "execution_count": null,
   "metadata": {},
   "outputs": [],
   "source": [
    "%%sql\n",
    "SELECT  department.department_title,\n",
    "        round(avg(q1_payments),2) as q1,round(avg(q2_payments),2) as q2,\n",
    "        round(avg(q3_payments),2) as q3,round(avg(q4_payments),2) as q4,\n",
    "        round(avg(total_payments),2) as total \n",
    "FROM    payment_fact \n",
    "join department on department.department_key=payment_fact.department_key\n",
    "join years on payment_fact.year_key=years.year_key\n",
    "INNER JOIN\n",
    "        (\n",
    "            SELECT  'Police' col\n",
    "            UNION SELECT  'Fire'\n",
    "            UNION SELECT  'Public Accountability'\n",
    "            UNION SELECT  '%DWP%'\n",
    "            \n",
    "\n",
    "        ) List ON department.department_title LIKE List.Col\n",
    "WHERE years.year in (2013,2014,2015,2016,2017)\n",
    "    \n",
    "group by department.department_title;"
   ]
  },
  {
   "cell_type": "markdown",
   "metadata": {},
   "source": [
    "After adjusting the year, we find out in our targeted four departments, payments in fire, police and public accountability all peak at the third quarter and for water and power department, it reaches its highest in the first quarter.\n",
    "\n",
    "First, for fire department, the average quarter payment rises steady from the first quarter to the third quarter and then experience a slightly drop in the last quarter. Combined with our former analysis that the component of payment in fire department is basically half the base-pay and half the overtime payment. We can reasonably claim that the rises partly comes from the more overtime payment in the fire department. In another words, it denotes that with the temperature goes higher, more fire-related incidents occur and correspondingly, more response from the fire department.\n",
    "\n",
    "Then, for police department, its payment reaches the highest in the third quarter with the other three quarter approximately the same. For public accountability department, the payment attains its peak in the third quarter. \n",
    "\n",
    "What also appealing to us is the payment pattern in the DWP department. It has a different peak compared with the other three departments. Employees in Water and Power department have the highest average payment in the first quarter. It makes sense when we consider the local weather situation. Los Angeles has an extremely large volume of rain falls on January and February, which will inevitably lead to increase in water and power related incidents and thus employees get more subsidy. Besides, as we research into the source of fund into DWP, we find that the operations of this department are financed solely by the sale of water and electric services. Therefore, the more freezing the weather, the more usage on water and power resources by residents and business and more sales to the department. With a higher sale, the payment to employees would increase accordingly."
   ]
  },
  {
   "cell_type": "code",
   "execution_count": null,
   "metadata": {},
   "outputs": [],
   "source": [
    "Image(url=\"https://github.com/jiaruxu233/istm6212/blob/master/seasonality_department.png?raw=true\")  "
   ]
  },
  {
   "cell_type": "markdown",
   "metadata": {},
   "source": [
    "### d-2 discover the seasonality parttern across positions"
   ]
  },
  {
   "cell_type": "markdown",
   "metadata": {},
   "source": [
    "Consider the format of job titles in our dataset, it is complicated to extract the exact job positions. Therefore, we decide to discuss several most frequently appeared job positions here, namely Supervisor,Officer,Sergeant,Detective,Analyst,Typist,Lieutenant,Commander,Mechanic and Clerk."
   ]
  },
  {
   "cell_type": "code",
   "execution_count": null,
   "metadata": {},
   "outputs": [],
   "source": [
    "%%sql\n",
    "SELECT  'Supervisor' as job_title,round(avg(q1_payments),2) as q1,round(avg(q2_payments),2) as q2,\n",
    "        round(avg(q3_payments),2) as q3,round(avg(q4_payments),2) as q4,\n",
    "        round(avg(total_payments),2) as total \n",
    "FROM    payment_fact \n",
    "join employment on employment.employment_key=payment_fact.employment_key\n",
    "join years on payment_fact.year_key=years.year_key\n",
    "where employment.job_class_title like '%Supervisor%'\n",
    "and  years.year in (2013,2014,2015,2016,2017)\n",
    "\n",
    "\n",
    "union\n",
    "\n",
    "SELECT  'Officer',round(avg(q1_payments),2) as q1,round(avg(q2_payments),2) as q2,\n",
    "        round(avg(q3_payments),2) as q3,round(avg(q4_payments),2) as q4,\n",
    "        round(avg(total_payments),2) as total \n",
    "FROM    payment_fact \n",
    "join employment on employment.employment_key=payment_fact.employment_key\n",
    "join years on payment_fact.year_key=years.year_key\n",
    "where employment.job_class_title like '%Officer%'\n",
    "and  years.year in (2013,2014,2015,2016,2017)\n",
    "\n",
    "\n",
    "union\n",
    "SELECT  'Sergeant',round(avg(q1_payments),2) as q1,round(avg(q2_payments),2) as q2,\n",
    "        round(avg(q3_payments),2) as q3,round(avg(q4_payments),2) as q4,\n",
    "        round(avg(total_payments),2) as total \n",
    "FROM    payment_fact \n",
    "join employment on employment.employment_key=payment_fact.employment_key\n",
    "join years on payment_fact.year_key=years.year_key\n",
    "where employment.job_class_title like '%Sergeant%'\n",
    "and  years.year in (2013,2014,2015,2016,2017)\n",
    "\n",
    "\n",
    "union\n",
    "SELECT  'Detective',round(avg(q1_payments),2) as q1,round(avg(q2_payments),2) as q2,\n",
    "        round(avg(q3_payments),2) as q3,round(avg(q4_payments),2) as q4,\n",
    "        round(avg(total_payments),2) as total \n",
    "FROM    payment_fact \n",
    "join employment on employment.employment_key=payment_fact.employment_key\n",
    "join years on payment_fact.year_key=years.year_key\n",
    "where employment.job_class_title like '%Detective%'\n",
    "and  years.year in (2013,2014,2015,2016,2017)\n",
    "\n",
    "\n",
    "union\n",
    "SELECT  'Analyst',round(avg(q1_payments),2) as q1,round(avg(q2_payments),2) as q2,\n",
    "        round(avg(q3_payments),2) as q3,round(avg(q4_payments),2) as q4,\n",
    "        round(avg(total_payments),2) as total \n",
    "FROM    payment_fact \n",
    "join employment on employment.employment_key=payment_fact.employment_key\n",
    "join years on payment_fact.year_key=years.year_key\n",
    "where employment.job_class_title like '%Analyst%'\n",
    "and  years.year in (2013,2014,2015,2016,2017)\n",
    "\n",
    "\n",
    "union\n",
    "SELECT  'Typist',round(avg(q1_payments),2) as q1,round(avg(q2_payments),2) as q2,\n",
    "        round(avg(q3_payments),2) as q3,round(avg(q4_payments),2) as q4,\n",
    "        round(avg(total_payments),2) as total \n",
    "FROM    payment_fact \n",
    "join employment on employment.employment_key=payment_fact.employment_key\n",
    "join years on payment_fact.year_key=years.year_key\n",
    "where employment.job_class_title like '%Typist%'\n",
    "and  years.year in (2013,2014,2015,2016,2017)\n",
    "\n",
    "\n",
    "union\n",
    "SELECT  'Lieutenant',round(avg(q1_payments),2) as q1,round(avg(q2_payments),2) as q2,\n",
    "        round(avg(q3_payments),2) as q3,round(avg(q4_payments),2) as q4,\n",
    "        round(avg(total_payments),2) as total \n",
    "FROM    payment_fact \n",
    "join employment on employment.employment_key=payment_fact.employment_key\n",
    "join years on payment_fact.year_key=years.year_key\n",
    "where employment.job_class_title like '%Lieutenant%'\n",
    "and  years.year in (2013,2014,2015,2016,2017)\n",
    "\n",
    "union\n",
    "SELECT  'Commander',round(avg(q1_payments),2) as q1,round(avg(q2_payments),2) as q2,\n",
    "        round(avg(q3_payments),2) as q3,round(avg(q4_payments),2) as q4,\n",
    "        round(avg(total_payments),2) as total \n",
    "FROM    payment_fact \n",
    "join employment on employment.employment_key=payment_fact.employment_key\n",
    "join years on payment_fact.year_key=years.year_key\n",
    "where employment.job_class_title like '%Commander%'\n",
    "and  years.year in (2013,2014,2015,2016,2017)\n",
    "\n",
    "union\n",
    "SELECT  'Mechanic',round(avg(q1_payments),2) as q1,round(avg(q2_payments),2) as q2,\n",
    "        round(avg(q3_payments),2) as q3,round(avg(q4_payments),2) as q4,\n",
    "        round(avg(total_payments),2) as total \n",
    "FROM    payment_fact \n",
    "join employment on employment.employment_key=payment_fact.employment_key\n",
    "join years on payment_fact.year_key=years.year_key\n",
    "where employment.job_class_title like '%Mechanic%' \n",
    "and  years.year in (2013,2014,2015,2016,2017)\n",
    "\n",
    "union\n",
    "SELECT  'Clerk',round(avg(q1_payments),2) as q1,round(avg(q2_payments),2) as q2,\n",
    "        round(avg(q3_payments),2) as q3,round(avg(q4_payments),2) as q4,\n",
    "        round(avg(total_payments),2) as total \n",
    "FROM    payment_fact \n",
    "join employment on employment.employment_key=payment_fact.employment_key\n",
    "join years on payment_fact.year_key=years.year_key\n",
    "where employment.job_class_title like '%Clerk%' \n",
    "and  years.year in (2013,2014,2015,2016,2017)\n"
   ]
  },
  {
   "cell_type": "code",
   "execution_count": null,
   "metadata": {},
   "outputs": [],
   "source": [
    "Image(url=\"https://github.com/jiaruxu233/istm6212/blob/master/Seasonality_over_ten_job_positions.png?raw=true\")  "
   ]
  },
  {
   "cell_type": "markdown",
   "metadata": {},
   "source": [
    "From the above table and picture, we can see that across different departments, employees with different job titles display various payment patterns.\n",
    "\n",
    "First, with average lower total payment, there is meanwhile also lower variation in the quarter payment. With a higher total payment, the variation at the same time lifts. For example, fore clerk and typist, the quarter payment remains approximately at the same level. On the opposite, for the sergeant and commander, there displays a quarterly fluctuation. Take the commander as an example, its quarter payment reaches its highest at the third quarter. \n",
    "\n",
    "When thinking of the reasons behind, we cannot deny that the base number matters. With a higher payment, the absolute variation is meanwhile larger. However, other than this, we can reasonably claim that it is the job feature that decides. Recalling our previous conclusion that almost every department has its payment peak at the third quarter, we can conclude with that the increase inthe quarter payment is from the lifted payment in higher job position.\n",
    "\n",
    "Besides, mechanics and supervisors display a different feature than the others. However, we are curious about whether these job positions will display the same pattern in every department or they are strongly department-related. Therefore, in the following steps, we would like to probe deeper into the relationship between the job positions in three particular departments, that is the LAPD, LAFD and PWD."
   ]
  },
  {
   "cell_type": "markdown",
   "metadata": {},
   "source": [
    "### d-2-1 discover the seasonality parttern across positions in LAPD "
   ]
  },
  {
   "cell_type": "code",
   "execution_count": null,
   "metadata": {},
   "outputs": [],
   "source": [
    "%%sql\n",
    "SELECT  'Supervisor' as police_title,round(avg(q1_payments),2) as q1,round(avg(q2_payments),2) as q2,\n",
    "        round(avg(q3_payments),2) as q3,round(avg(q4_payments),2) as q4,\n",
    "        round(avg(total_payments),2) as total \n",
    "FROM    payment_fact \n",
    "join employment on employment.employment_key=payment_fact.employment_key\n",
    "join department on department.department_key=payment_fact.department_key\n",
    "join years on payment_fact.year_key=years.year_key\n",
    "where employment.job_class_title like '%Supervisor%' and department.department_title = 'Police' \n",
    "and  years.year in (2013,2014,2015,2016,2017)\n",
    "\n",
    "union\n",
    "\n",
    "SELECT  'Officer',round(avg(q1_payments),2) as q1,round(avg(q2_payments),2) as q2,\n",
    "        round(avg(q3_payments),2) as q3,round(avg(q4_payments),2) as q4,\n",
    "        round(avg(total_payments),2) as total \n",
    "FROM    payment_fact \n",
    "join employment on employment.employment_key=payment_fact.employment_key\n",
    "join department on department.department_key=payment_fact.department_key\n",
    "join years on payment_fact.year_key=years.year_key\n",
    "where employment.job_class_title like '%Officer%' and department.department_title = 'Police' \n",
    "and  years.year in (2013,2014,2015,2016,2017)\n",
    "\n",
    "union\n",
    "SELECT  'Sergeant',round(avg(q1_payments),2) as q1,round(avg(q2_payments),2) as q2,\n",
    "        round(avg(q3_payments),2) as q3,round(avg(q4_payments),2) as q4,\n",
    "        round(avg(total_payments),2) as total \n",
    "FROM    payment_fact \n",
    "join employment on employment.employment_key=payment_fact.employment_key\n",
    "join department on department.department_key=payment_fact.department_key\n",
    "join years on payment_fact.year_key=years.year_key\n",
    "where employment.job_class_title like '%Sergeant%' and department.department_title = 'Police'  \n",
    "and  years.year in (2013,2014,2015,2016,2017)\n",
    "\n",
    "union\n",
    "SELECT  'Detective',round(avg(q1_payments),2) as q1,round(avg(q2_payments),2) as q2,\n",
    "        round(avg(q3_payments),2) as q3,round(avg(q4_payments),2) as q4,\n",
    "        round(avg(total_payments),2) as total \n",
    "FROM    payment_fact \n",
    "join employment on employment.employment_key=payment_fact.employment_key\n",
    "join department on department.department_key=payment_fact.department_key\n",
    "join years on payment_fact.year_key=years.year_key\n",
    "where employment.job_class_title like '%Detective%' and department.department_title = 'Police' \n",
    "and  years.year in (2013,2014,2015,2016,2017)\n",
    "\n",
    "union\n",
    "SELECT  'Analyst',round(avg(q1_payments),2) as q1,round(avg(q2_payments),2) as q2,\n",
    "        round(avg(q3_payments),2) as q3,round(avg(q4_payments),2) as q4,\n",
    "        round(avg(total_payments),2) as total \n",
    "FROM    payment_fact \n",
    "join employment on employment.employment_key=payment_fact.employment_key\n",
    "join department on department.department_key=payment_fact.department_key\n",
    "join years on payment_fact.year_key=years.year_key\n",
    "where employment.job_class_title like '%Analyst%' and department.department_title = 'Police' \n",
    "and  years.year in (2013,2014,2015,2016,2017)\n",
    "\n",
    "union\n",
    "SELECT  'Typist',round(avg(q1_payments),2) as q1,round(avg(q2_payments),2) as q2,\n",
    "        round(avg(q3_payments),2) as q3,round(avg(q4_payments),2) as q4,\n",
    "        round(avg(total_payments),2) as total \n",
    "FROM    payment_fact \n",
    "join employment on employment.employment_key=payment_fact.employment_key\n",
    "join department on department.department_key=payment_fact.department_key\n",
    "join years on payment_fact.year_key=years.year_key\n",
    "where employment.job_class_title like '%Typist%' and department.department_title = 'Police'  \n",
    "and  years.year in (2013,2014,2015,2016,2017)\n",
    "\n",
    "union\n",
    "SELECT  'Lieutenant',round(avg(q1_payments),2) as q1,round(avg(q2_payments),2) as q2,\n",
    "        round(avg(q3_payments),2) as q3,round(avg(q4_payments),2) as q4,\n",
    "        round(avg(total_payments),2) as total \n",
    "FROM    payment_fact \n",
    "join employment on employment.employment_key=payment_fact.employment_key\n",
    "join department on department.department_key=payment_fact.department_key\n",
    "join years on payment_fact.year_key=years.year_key\n",
    "where employment.job_class_title like '%Lieutenant%' and department.department_title = 'Police' \n",
    "and  years.year in (2013,2014,2015,2016,2017)\n",
    "\n",
    "union\n",
    "SELECT  'Commander',round(avg(q1_payments),2) as q1,round(avg(q2_payments),2) as q2,\n",
    "        round(avg(q3_payments),2) as q3,round(avg(q4_payments),2) as q4,\n",
    "        round(avg(total_payments),2) as total \n",
    "FROM    payment_fact \n",
    "join employment on employment.employment_key=payment_fact.employment_key\n",
    "join department on department.department_key=payment_fact.department_key\n",
    "join years on payment_fact.year_key=years.year_key\n",
    "where employment.job_class_title like '%Commander%' and department.department_title = 'Police' \n",
    "and  years.year in (2013,2014,2015,2016,2017)\n",
    "\n",
    "union\n",
    "SELECT  'Mechanic',round(avg(q1_payments),2) as q1,round(avg(q2_payments),2) as q2,\n",
    "        round(avg(q3_payments),2) as q3,round(avg(q4_payments),2) as q4,\n",
    "        round(avg(total_payments),2) as total \n",
    "FROM    payment_fact \n",
    "join employment on employment.employment_key=payment_fact.employment_key\n",
    "join department on department.department_key=payment_fact.department_key\n",
    "join years on payment_fact.year_key=years.year_key\n",
    "where employment.job_class_title like '%Mechanic%' and department.department_title = 'Police'  \n",
    "and  years.year in (2013,2014,2015,2016,2017)\n",
    "\n",
    "union\n",
    "SELECT  'Clerk',round(avg(q1_payments),2) as q1,round(avg(q2_payments),2) as q2,\n",
    "        round(avg(q3_payments),2) as q3,round(avg(q4_payments),2) as q4,\n",
    "        round(avg(total_payments),2) as total \n",
    "FROM    payment_fact \n",
    "join employment on employment.employment_key=payment_fact.employment_key\n",
    "join department on department.department_key=payment_fact.department_key\n",
    "join years on payment_fact.year_key=years.year_key\n",
    "where employment.job_class_title like '%Clerk%' and department.department_title = 'Police' \n",
    "and  years.year in (2013,2014,2015,2016,2017)\n"
   ]
  },
  {
   "cell_type": "code",
   "execution_count": null,
   "metadata": {},
   "outputs": [],
   "source": [
    "Image(url=\"https://github.com/jiaruxu233/istm6212/blob/master/LAPD.png?raw=true\")  "
   ]
  },
  {
   "cell_type": "markdown",
   "metadata": {},
   "source": [
    "From the figure above, we can see there is a distinctive and clear hierarchy of payment in the police department. In general, people with higher title, get a higher pay. For example, commanders are rewarded with the highest payment and the volume of payment follows a steady decline with Lieutenant, Sergeant and Supervisor in sequence. The payment within these job titles all reaches top in the third quarter.\n",
    "\n",
    "With such an interesting finding, we try to propose the following possible reasons. First, the Police Department may receive more fund in the third quarter. With more fund, the department would be able to reward its employees with higher payment. Second, another possible reasons may lie in that the third quarter is a travel season. Therefore, a lot more people come to Los Angeles. With a denser population, the crime rate correspondingly rises. Therefore, having to deal with more cases, the police department have more payment as reward."
   ]
  },
  {
   "cell_type": "markdown",
   "metadata": {},
   "source": [
    "### d-2-2 discover the seasonality parttern across positions in Fire Department"
   ]
  },
  {
   "cell_type": "code",
   "execution_count": null,
   "metadata": {},
   "outputs": [],
   "source": [
    "%%sql\n",
    "SELECT  'Supervisor' as fire_title,round(avg(q1_payments),2) as q1,round(avg(q2_payments),2) as q2,\n",
    "        round(avg(q3_payments),2) as q3,round(avg(q4_payments),2) as q4,\n",
    "        round(avg(total_payments),2) as total \n",
    "FROM    payment_fact \n",
    "join employment on employment.employment_key=payment_fact.employment_key\n",
    "join department on department.department_key=payment_fact.department_key\n",
    "join years on payment_fact.year_key=years.year_key\n",
    "where employment.job_class_title like '%Supervisor%' and department.department_title = 'Fire' \n",
    "and  years.year in (2013,2014,2015,2016,2017)\n",
    "\n",
    "\n",
    "union\n",
    "\n",
    "SELECT  'Officer',round(avg(q1_payments),2) as q1,round(avg(q2_payments),2) as q2,\n",
    "        round(avg(q3_payments),2) as q3,round(avg(q4_payments),2) as q4,\n",
    "        round(avg(total_payments),2) as total \n",
    "FROM    payment_fact \n",
    "join employment on employment.employment_key=payment_fact.employment_key\n",
    "join department on department.department_key=payment_fact.department_key\n",
    "join years on payment_fact.year_key=years.year_key\n",
    "where employment.job_class_title like '%Officer%' and department.department_title = 'Fire' \n",
    "and  years.year in (2013,2014,2015,2016,2017)\n",
    "\n",
    "\n",
    "union\n",
    "SELECT  'Sergeant',round(avg(q1_payments),2) as q1,round(avg(q2_payments),2) as q2,\n",
    "        round(avg(q3_payments),2) as q3,round(avg(q4_payments),2) as q4,\n",
    "        round(avg(total_payments),2) as total \n",
    "FROM    payment_fact \n",
    "join employment on employment.employment_key=payment_fact.employment_key\n",
    "join department on department.department_key=payment_fact.department_key\n",
    "join years on payment_fact.year_key=years.year_key\n",
    "where employment.job_class_title like '%Sergeant%' and department.department_title = 'Fire'\n",
    "and  years.year in (2013,2014,2015,2016,2017)\n",
    "\n",
    "\n",
    "union\n",
    "SELECT  'Detective',round(avg(q1_payments),2) as q1,round(avg(q2_payments),2) as q2,\n",
    "        round(avg(q3_payments),2) as q3,round(avg(q4_payments),2) as q4,\n",
    "        round(avg(total_payments),2) as total \n",
    "FROM    payment_fact \n",
    "join employment on employment.employment_key=payment_fact.employment_key\n",
    "join department on department.department_key=payment_fact.department_key\n",
    "join years on payment_fact.year_key=years.year_key\n",
    "where employment.job_class_title like '%Detective%' and department.department_title = 'Fire' \n",
    "and  years.year in (2013,2014,2015,2016,2017)\n",
    "\n",
    "\n",
    "union\n",
    "SELECT  'Analyst',round(avg(q1_payments),2) as q1,round(avg(q2_payments),2) as q2,\n",
    "        round(avg(q3_payments),2) as q3,round(avg(q4_payments),2) as q4,\n",
    "        round(avg(total_payments),2) as total \n",
    "FROM    payment_fact \n",
    "join employment on employment.employment_key=payment_fact.employment_key\n",
    "join department on department.department_key=payment_fact.department_key\n",
    "join years on payment_fact.year_key=years.year_key\n",
    "where employment.job_class_title like '%Analyst%' and department.department_title = 'Fire' \n",
    "and  years.year in (2013,2014,2015,2016,2017)\n",
    "\n",
    "\n",
    "union\n",
    "SELECT  'Typist',round(avg(q1_payments),2) as q1,round(avg(q2_payments),2) as q2,\n",
    "        round(avg(q3_payments),2) as q3,round(avg(q4_payments),2) as q4,\n",
    "        round(avg(total_payments),2) as total \n",
    "FROM    payment_fact \n",
    "join employment on employment.employment_key=payment_fact.employment_key\n",
    "join department on department.department_key=payment_fact.department_key\n",
    "join years on payment_fact.year_key=years.year_key\n",
    "where employment.job_class_title like '%Typist%' and department.department_title = 'Fire'  \n",
    "and  years.year in (2013,2014,2015,2016,2017)\n",
    "\n",
    "\n",
    "union\n",
    "SELECT  'Lieutenant',round(avg(q1_payments),2) as q1,round(avg(q2_payments),2) as q2,\n",
    "        round(avg(q3_payments),2) as q3,round(avg(q4_payments),2) as q4,\n",
    "        round(avg(total_payments),2) as total \n",
    "FROM    payment_fact \n",
    "join employment on employment.employment_key=payment_fact.employment_key\n",
    "join department on department.department_key=payment_fact.department_key\n",
    "join years on payment_fact.year_key=years.year_key\n",
    "where employment.job_class_title like '%Lieutenant%' and department.department_title = 'Fire' \n",
    "and  years.year in (2013,2014,2015,2016,2017)\n",
    "\n",
    "\n",
    "union\n",
    "SELECT  'Commander',round(avg(q1_payments),2) as q1,round(avg(q2_payments),2) as q2,\n",
    "        round(avg(q3_payments),2) as q3,round(avg(q4_payments),2) as q4,\n",
    "        round(avg(total_payments),2) as total \n",
    "FROM    payment_fact \n",
    "join employment on employment.employment_key=payment_fact.employment_key\n",
    "join department on department.department_key=payment_fact.department_key\n",
    "join years on payment_fact.year_key=years.year_key\n",
    "where employment.job_class_title like '%Commander%' and department.department_title = 'Fire' \n",
    "and  years.year in (2013,2014,2015,2016,2017)\n",
    "\n",
    "\n",
    "union\n",
    "SELECT  'Mechanic',round(avg(q1_payments),2) as q1,round(avg(q2_payments),2) as q2,\n",
    "        round(avg(q3_payments),2) as q3,round(avg(q4_payments),2) as q4,\n",
    "        round(avg(total_payments),2) as total \n",
    "FROM    payment_fact \n",
    "join employment on employment.employment_key=payment_fact.employment_key\n",
    "join department on department.department_key=payment_fact.department_key\n",
    "join years on payment_fact.year_key=years.year_key\n",
    "where employment.job_class_title like '%Mechanic%' and department.department_title = 'Fire' \n",
    "and  years.year in (2013,2014,2015,2016,2017)\n",
    "\n",
    "union\n",
    "SELECT  'Firefighter',round(avg(q1_payments),2) as q1,round(avg(q2_payments),2) as q2,\n",
    "        round(avg(q3_payments),2) as q3,round(avg(q4_payments),2) as q4,\n",
    "        round(avg(total_payments),2) as total \n",
    "FROM    payment_fact \n",
    "join employment on employment.employment_key=payment_fact.employment_key\n",
    "join department on department.department_key=payment_fact.department_key\n",
    "join years on payment_fact.year_key=years.year_key\n",
    "where employment.job_class_title like '%Firefighter%' and department.department_title = 'Fire' \n",
    "and  years.year in (2013,2014,2015,2016,2017)\n"
   ]
  },
  {
   "cell_type": "code",
   "execution_count": null,
   "metadata": {},
   "outputs": [],
   "source": [
    "Image(url=\"https://github.com/jiaruxu233/istm6212/blob/master/LAFD_.png?raw=true\")  "
   ]
  },
  {
   "cell_type": "markdown",
   "metadata": {},
   "source": [
    "From the above graph, we can see that obviously firefighters have the highest pay. In detail, the payment for firefighter rises with the local temperature. The higher the temperature, the higher the payment for firefighters. Recalling our previous result that the payment of fire department is in a relative large extent composed by over-time payment, therefore, we can reasonably conclude that it is the higher the temperature, the more the incidents and as a result, the more response from the fire department, which will finally lead to higher payment fore firefighters."
   ]
  },
  {
   "cell_type": "markdown",
   "metadata": {},
   "source": [
    "### d-2-3 discover the seasonality parttern across positions in Water and Power Department"
   ]
  },
  {
   "cell_type": "code",
   "execution_count": null,
   "metadata": {},
   "outputs": [],
   "source": [
    "%%sql\n",
    "SELECT  'Supervisor' as DWP_title,round(avg(q1_payments),2) as q1,round(avg(q2_payments),2) as q2,\n",
    "        round(avg(q3_payments),2) as q3,round(avg(q4_payments),2) as q4,\n",
    "        round(avg(total_payments),2) as total \n",
    "FROM    payment_fact \n",
    "join employment on employment.employment_key=payment_fact.employment_key\n",
    "join department on department.department_key=payment_fact.department_key\n",
    "join years on payment_fact.year_key=years.year_key\n",
    "where employment.job_class_title like '%Supervisor%' and department.department_title = '%DWP%' \n",
    "and  years.year in (2013,2014,2015,2016,2017)\n",
    "\n",
    "union\n",
    "\n",
    "SELECT  'Officer',round(avg(q1_payments),2) as q1,round(avg(q2_payments),2) as q2,\n",
    "        round(avg(q3_payments),2) as q3,round(avg(q4_payments),2) as q4,\n",
    "        round(avg(total_payments),2) as total \n",
    "FROM    payment_fact \n",
    "join employment on employment.employment_key=payment_fact.employment_key\n",
    "join department on department.department_key=payment_fact.department_key\n",
    "join years on payment_fact.year_key=years.year_key\n",
    "where employment.job_class_title like '%Officer%' and department.department_title like '%DWP%' \n",
    "and  years.year in (2013,2014,2015,2016,2017)\n",
    "\n",
    "union\n",
    "SELECT  'Sergeant',round(avg(q1_payments),2) as q1,round(avg(q2_payments),2) as q2,\n",
    "        round(avg(q3_payments),2) as q3,round(avg(q4_payments),2) as q4,\n",
    "        round(avg(total_payments),2) as total \n",
    "FROM    payment_fact \n",
    "join employment on employment.employment_key=payment_fact.employment_key\n",
    "join department on department.department_key=payment_fact.department_key\n",
    "join years on payment_fact.year_key=years.year_key\n",
    "where employment.job_class_title like '%Sergeant%' and department.department_title like '%DWP%'  \n",
    "and  years.year in (2013,2014,2015,2016,2017)\n",
    "\n",
    "union\n",
    "SELECT  'Detective',round(avg(q1_payments),2) as q1,round(avg(q2_payments),2) as q2,\n",
    "        round(avg(q3_payments),2) as q3,round(avg(q4_payments),2) as q4,\n",
    "        round(avg(total_payments),2) as total \n",
    "FROM    payment_fact \n",
    "join employment on employment.employment_key=payment_fact.employment_key\n",
    "join department on department.department_key=payment_fact.department_key\n",
    "join years on payment_fact.year_key=years.year_key\n",
    "where employment.job_class_title like '%Detective%' and department.department_title like '%DWP%' \n",
    "and  years.year in (2013,2014,2015,2016,2017)\n",
    "\n",
    "union\n",
    "SELECT  'Analyst',round(avg(q1_payments),2) as q1,round(avg(q2_payments),2) as q2,\n",
    "        round(avg(q3_payments),2) as q3,round(avg(q4_payments),2) as q4,\n",
    "        round(avg(total_payments),2) as total \n",
    "FROM    payment_fact \n",
    "join employment on employment.employment_key=payment_fact.employment_key\n",
    "join department on department.department_key=payment_fact.department_key\n",
    "join years on payment_fact.year_key=years.year_key\n",
    "where employment.job_class_title like '%Analyst%' and department.department_title like '%DWP%' \n",
    "and  years.year in (2013,2014,2015,2016,2017)\n",
    "\n",
    "union\n",
    "SELECT  'Typist',round(avg(q1_payments),2) as q1,round(avg(q2_payments),2) as q2,\n",
    "        round(avg(q3_payments),2) as q3,round(avg(q4_payments),2) as q4,\n",
    "        round(avg(total_payments),2) as total \n",
    "FROM    payment_fact \n",
    "join employment on employment.employment_key=payment_fact.employment_key\n",
    "join department on department.department_key=payment_fact.department_key\n",
    "join years on payment_fact.year_key=years.year_key\n",
    "where employment.job_class_title like '%Typist%' and department.department_title like '%DWP%'  \n",
    "\n",
    "union\n",
    "SELECT  'Lieutenant',round(avg(q1_payments),2) as q1,round(avg(q2_payments),2) as q2,\n",
    "        round(avg(q3_payments),2) as q3,round(avg(q4_payments),2) as q4,\n",
    "        round(avg(total_payments),2) as total \n",
    "FROM    payment_fact \n",
    "join employment on employment.employment_key=payment_fact.employment_key\n",
    "join department on department.department_key=payment_fact.department_key\n",
    "join years on payment_fact.year_key=years.year_key\n",
    "where employment.job_class_title like '%Lieutenant%' and department.department_title like '%DWP%' \n",
    "\n",
    "union\n",
    "SELECT  'Commander',round(avg(q1_payments),2) as q1,round(avg(q2_payments),2) as q2,\n",
    "        round(avg(q3_payments),2) as q3,round(avg(q4_payments),2) as q4,\n",
    "        round(avg(total_payments),2) as total \n",
    "FROM    payment_fact \n",
    "join employment on employment.employment_key=payment_fact.employment_key\n",
    "join department on department.department_key=payment_fact.department_key\n",
    "join years on payment_fact.year_key=years.year_key\n",
    "where employment.job_class_title like '%Commander%' and department.department_title like '%DWP%' \n",
    "\n",
    "union\n",
    "SELECT  'Mechanic',round(avg(q1_payments),2) as q1,round(avg(q2_payments),2) as q2,\n",
    "        round(avg(q3_payments),2) as q3,round(avg(q4_payments),2) as q4,\n",
    "        round(avg(total_payments),2) as total \n",
    "FROM    payment_fact \n",
    "join employment on employment.employment_key=payment_fact.employment_key\n",
    "join department on department.department_key=payment_fact.department_key\n",
    "join years on payment_fact.year_key=years.year_key\n",
    "where employment.job_class_title like '%Mechanic%' and department.department_title like '%DWP%'  \n",
    "\n",
    "union\n",
    "SELECT  'Clerk',round(avg(q1_payments),2) as q1,round(avg(q2_payments),2) as q2,\n",
    "        round(avg(q3_payments),2) as q3,round(avg(q4_payments),2) as q4,\n",
    "        round(avg(total_payments),2) as total \n",
    "FROM    payment_fact \n",
    "join employment on employment.employment_key=payment_fact.employment_key\n",
    "join department on department.department_key=payment_fact.department_key\n",
    "join years on payment_fact.year_key=years.year_key\n",
    "where employment.job_class_title like '%Clerk%' and department.department_title = '%DWP%' \n",
    "and  years.year in (2013,2014,2015,2016,2017)\n"
   ]
  },
  {
   "cell_type": "code",
   "execution_count": null,
   "metadata": {},
   "outputs": [],
   "source": [
    "Image(url=\"https://github.com/jiaruxu233/istm6212/blob/master/DWP.png?raw=true\")  "
   ]
  },
  {
   "cell_type": "markdown",
   "metadata": {},
   "source": [
    "With the above picture, we can clearly see there is an extremely high column with mechanic, which is totally different from the pattern revealed from the other two groups. Although this result seems surprising, we can easily make sense when considering its department features. In the department of water and power, there is a lot of work that is technical and a lot of experience is required for this particular position. Meanwhile, the working environment for this position is also not that comforting which also makes mechanics deserve higher payment.\n",
    "\n",
    "As for the trend over mechanics' payment, we can see there is a clear decline over the first quarter to the last quarter. Basing on the picture here and the local climate situation, we infer that it is the weather in Los Angeles that leads to this drop. During the first quarter, there is a lot of rainfalls in LA, and floods are also more likely to happen, which calls for the need of mechanics from the water and power department to save the situation. This kind of emergency in return makes those mechanic welcomes a higher payment in the first quarter."
   ]
  },
  {
   "cell_type": "markdown",
   "metadata": {},
   "source": [
    "### Conclusion wrap up answers to questions in part 1"
   ]
  },
  {
   "cell_type": "markdown",
   "metadata": {},
   "source": [
    "First focus answers:\n",
    "1.    There should be a slowly increasing in salary over years due to inflation and living expense increase, but there might also not change a lot due to increasing demand. Does year really have an effect on salary?\n",
    "\n",
    "         *A: Surprisingly, there is no big difference of salary over years, so year does not really have an effect on salary*\n",
    "         \n",
    "2.    What are the departments with the highest average total payment and if there is something in common through these departments? The most common city employees we know for daily are fireman and policeman, since they are service-based job, we think they probably have higher payments.\n",
    "\n",
    "         *A: Public Accountability, Fire, City Attorney ranked top 3.  We find Fire department takes a huge portion of top 10 over 2013-2018, while Public Accountability only has data for 2016 and 2017, at this point, we cannot say if there is a common thing among these three departments. But our hypothesis that fireman has a higher salary, but police did not rank the top in our chart, so it looks like the police do not get paid very well.*\n",
    "\n",
    "3.    We know that total payment is generated from base pay, overtime pay, permanent bonus pay, etc., we want to see if these bonus pays will make a difference in total pay?\n",
    "\n",
    "         *A: we find that Public Accountability's base pay is significantly higher than other departments, which agreed with our previous observation that Public Accountability ranks top 1 for total payment. However, Fire department only ranked at 4th, so we figured there should be other reason that makes Fire department’s total payment very high. When we analyze the overtime pay, we surprisingly find that Fire has a significantly higher overtime pay than the other department, almost four times as the 2nd department the water and power. Later, we find that for Fire department, certain position has higher overtime pay than its base pay, and they generally have very high overtime pay than other departments, which make sense why even Fire has a lower base pay, it still has the highest total pay. For the permanent bonus, it has to do more with the job title, the more senior job like Fire Assistant Chief and Executive Director Police Commission has a lot of permanent bonus than entry-level positions. So digging into the constitute part of the total payment, the bonus does make a difference in total pay.*\n",
    "\n",
    "4.    We predict that job title has an impact on salary, as people with higher positions will have a higher pay, but is there a big difference between different departments? We would want to make a comparison here.\n",
    "\n",
    "         *A: We compared Fire, Police, Water and Power, and Public Accountability department. We find that overall, senior levels position like Fire Captain, Police Captain, and Senior Load Dispatcher do have a higher pay, however, there are exceptions. For the Fire department, Fire Helicopter Pilot and Fireboat Pilot have the highest salary, probably because of the techniques required for these types of jobs. Across departments, the Fire department has the highest average payment, while Police and Water and Power department are about the same. We also take a look at Public Accountability since it has the highest total pay, and find that they basically only have a base pay, and it is a lot higher than the others. We searched the duty of this department and found that they served as independent watchdog which means they monitor the performance of DWP department. So we conclude this department is a special case as the employees in this department need to really get paid well to do a good job on monitoring.*\n",
    "\n",
    "5.    Our dataset also contains employment type, we should get a conclusion that full-time gets to pay most, but we probably would find some interesting thing if we categorize each employment type and the group of departments appears to have the highest pay might be different.\n",
    "\n",
    "        *A: We indeed find full-time has the highest average payment. For Full-time group, we find half departments are service based such as Fire, Water and Power. The other half are advanced administration department, such as the City Administrative Officer (CAO), City Administrative Officer. For the Part-time group, a lot of these departments are for public facilities, such as Recreation and Parks, library, and transportation. For the Pre-event group, like it is categorized, most of the departments in the rank are seasonal jobs, like Cultural Affairs, pension (LAFPP) and Personnel. Overall, the only department that overlaps in all three employment types is Police, which is reasonable since Police would need more police force for certain period, but they do not always need a lot full-time police.*\n",
    "\n",
    "For our second focus, we want to answer the following questions:\n",
    "1.    We want to see if there is a difference in quarterly payment. We predict that for different department, there is a different pattern due to the department characteristics. \n",
    "\n",
    "        *A: we find out in our targeted four departments, payments in fire, police and public accountability all peak at the third quarter and for water and power department, it reaches its highest in the first quarter. Both Police and Fire have a steady increase for the first three quarters. While for the Water and Power department, it has the highest average payment in the first quarter. And we find a reasonable causation for this is the operations of this department are financed solely by the sale of water and electric services. So more usage of energy and water in cold season will reflect on a higher quarter salary.*\n",
    "\n",
    "2.    Second, for different positions in some specific department, we wonder if there is also a pattern over how employees are rewarded through the years in different quarters. We predict that in different quarters of the year, there exists some variation in the pattern due to the seasonality and the feature of a specific department.\n",
    "\n",
    "        *A: as we probe deeper into the fire, police and water and power department, we find out that in different departments, the payment pattern associated with quarter and position varies. In police department, there is a clear hierarchy over quarter payment. With higher title, the payment gets higher. In fire department, firefighters get the most payment instead of positions like supervisors. Besides, in Los Angeles Water and Power department(LAWPD),the mechanic ranks top when considering its quarter payment and followed by analysts. This pattern denotes that those two positions take up dominant positions in LAPWD. Possible explanation could be that the works in LAPWD is conducted mainly by those two types of workers. For mechanics, they are mainly responsible for conducting the detailed construction work and solving technical problems. For analyst, they will discover the systematical pattern and aim to raise the overall performance of the department. In another words, the mechanics emphasize front-end works and for analysts, they emphasizes on back-end works, and they altogether occupy a significant position inside the department.*\n",
    "\n",
    "3.    Third, if we find out some seasonal difference after the previous step, we would like to explore further into the reason behind and find out how the variation differs among various positions in the same department and how large the variation is. \n",
    "\n",
    "        *A: Especially, in the fire department, the firefighters not only have the highest payment in total but also display a seasonal pattern across quarters. The quarter payment for firefighters rises with the temperature. The higher the temperature in that quarter, the more payment towards firefighters. Therefore, we propose a possible explanation for that with higher temperature in Los Angeles, more fire-related incidents may happen and correspondingly calls for more worktime from firefighters. Besides, because of the special location of Los Angeles, there may be more forest fires in summer which also add firefighters' workload. Then as for the Water and Power department, we can see that the payment for mechanics reach its peak in the first quarter which could be partially due to higher rainfalls in the first quarters. Heavy rainfalls would threat the water pipes and also the electrical facilities in the city and, as a result, will lead to more repairing work for the mechanics.*\n",
    "\n"
   ]
  },
  {
   "cell_type": "markdown",
   "metadata": {},
   "source": [
    "# Bonus - Augment\n",
    "\n",
    "Sometimes the most value can be gained from one dataset when it is studied alongside data drawn from other sources. Identify and describe at least one additional data source that can complement your analysis. Pull this additional data into your chosen environment and explore at least one more theme you are able to further analyze that depends upon a combination of data from both sources."
   ]
  },
  {
   "cell_type": "markdown",
   "metadata": {},
   "source": [
    "From the previous analysis section, we discover that there is a strong seasonality pattern over the payment in the fire department,especially in the payment of firefighters. Combined with our finding in part b that fire department employees' are paid with approximately half the base pay and half the overtime pay, we can easily infer that the increase in payment is due to the increase in incidents.\n",
    "\n",
    "Therefore, in order to prove our hypothesis, we get the data from the Los Angeles Fire Department that describes about the responses in all fire stations grouped by month. With this dataset, we would like to test our previous conclusions and verify the hypothesis."
   ]
  },
  {
   "cell_type": "code",
   "execution_count": null,
   "metadata": {},
   "outputs": [],
   "source": [
    "!wget -O fire.csv https://s3.amazonaws.com/jiaruxu/All_Stations_Response_Metrics.csv"
   ]
  },
  {
   "cell_type": "code",
   "execution_count": null,
   "metadata": {},
   "outputs": [],
   "source": [
    "!csvcut -n fire.csv"
   ]
  },
  {
   "cell_type": "markdown",
   "metadata": {},
   "source": [
    "From the column,we can see the dataset has separate the incident into two categories. One concerns EMS situations and another talks about Non-EMS situations.For here, EMS means combined system, which uses the fire department for emergency response and a private or “third service” (police, fire, EMS) provider for transportation support.More than 85% of the LAFD's daily emergency responses are related to Emergency Medicine Services. "
   ]
  },
  {
   "cell_type": "markdown",
   "metadata": {},
   "source": [
    "To conduct our analysis, we create the following table."
   ]
  },
  {
   "cell_type": "code",
   "execution_count": null,
   "metadata": {},
   "outputs": [],
   "source": [
    "%%sql\n",
    "DROP TABLE IF EXISTS fire_response;\n",
    "\n",
    "CREATE TABLE fire_response (\n",
    "    year VARCHAR(500),\n",
    "    district VARCHAR(500),\n",
    "    month VARCHAR(100),\n",
    "    turnout VARCHAR(100),\n",
    "    turnout_ems VARCHAR(100),\n",
    "    travel VARCHAR(100),\n",
    "    travel_ems VARCHAR(100),\n",
    "    incident integer,\n",
    "    incident_ems integer        \n",
    ");"
   ]
  },
  {
   "cell_type": "code",
   "execution_count": null,
   "metadata": {},
   "outputs": [],
   "source": [
    "!pwd"
   ]
  },
  {
   "cell_type": "markdown",
   "metadata": {},
   "source": [
    "Also,please change the path according to the previous route."
   ]
  },
  {
   "cell_type": "code",
   "execution_count": null,
   "metadata": {},
   "outputs": [],
   "source": [
    "%%sql\n",
    "COPY fire_response FROM '/home/ubuntu/fire.csv'\n",
    "CSV\n",
    "HEADER;"
   ]
  },
  {
   "cell_type": "code",
   "execution_count": null,
   "metadata": {},
   "outputs": [],
   "source": [
    "%%sql\n",
    "select year,count(*) from fire_response\n",
    "group by year"
   ]
  },
  {
   "cell_type": "markdown",
   "metadata": {},
   "source": [
    "From this table, we can see clearly, the data for 2017 is not complete. Therefore, we decide to only focus on the year from 2013 to 2016."
   ]
  },
  {
   "cell_type": "code",
   "execution_count": null,
   "metadata": {},
   "outputs": [],
   "source": [
    "%%sql\n",
    "select year,sum(incident) as incident,sum(incident_ems) as ems_incident \n",
    "from fire_response\n",
    "where year in ('2013','2014','2015','2016')\n",
    "group by year\n",
    "order by year;"
   ]
  },
  {
   "cell_type": "markdown",
   "metadata": {},
   "source": [
    "From the table, we can see there is a clear lifting trend in each categories over the four years. There is a slight drop in 2016 for non-ems incident but in the whole picture, it is still an increasing trend."
   ]
  },
  {
   "cell_type": "code",
   "execution_count": null,
   "metadata": {},
   "outputs": [],
   "source": [
    "%%sql\n",
    "select year,'q1' as season,sum(incident) as incident,sum(incident_ems) as ems_incident \n",
    "from fire_response\n",
    "where month in ('Jan','Feb','Mar')\n",
    "and year in ('2013','2014','2015','2016')\n",
    "group by year\n",
    "order by year;"
   ]
  },
  {
   "cell_type": "code",
   "execution_count": null,
   "metadata": {},
   "outputs": [],
   "source": [
    "%%sql\n",
    "select year,'q2' as season,sum(incident) as incident,sum(incident_ems) as ems_incident \n",
    "from fire_response\n",
    "where month in ('Apr','May','Jun')\n",
    "group by year\n",
    "order by year;"
   ]
  },
  {
   "cell_type": "code",
   "execution_count": null,
   "metadata": {},
   "outputs": [],
   "source": [
    "%%sql\n",
    "select year,'q3' as season,sum(incident) as incident,sum(incident_ems) as ems_incident \n",
    "from fire_response\n",
    "where month in ('Jul','Aug','Sep')\n",
    "group by year\n",
    "order by year;"
   ]
  },
  {
   "cell_type": "code",
   "execution_count": null,
   "metadata": {},
   "outputs": [],
   "source": [
    "%%sql\n",
    "select year,'q4' as season,sum(incident) as incident,sum(incident_ems) as ems_incident \n",
    "from fire_response\n",
    "where month in ('Oct','Nov','Dec')\n",
    "group by year\n",
    "order by year;"
   ]
  },
  {
   "cell_type": "code",
   "execution_count": null,
   "metadata": {},
   "outputs": [],
   "source": [
    "%%sql\n",
    "select month,round(avg(incident),2) as incident,\n",
    "            round(avg(incident_ems),2) as ems_incident,\n",
    "            round(avg(incident),2)+round(avg(incident_ems),2) as total_incident\n",
    "from fire_response\n",
    "where month in ('Dec','Jan','Aug','Oct','Jul','Sep','May','Mar','Nov','Jun','Apr','Feb')\n",
    "group by month\n",
    "order by round(avg(incident),2)+round(avg(incident_ems),2) desc;"
   ]
  },
  {
   "cell_type": "code",
   "execution_count": null,
   "metadata": {},
   "outputs": [],
   "source": [
    "Image(url=\"https://github.com/jiaruxu233/istm6212/blob/master/fire_response.png?raw=true\")  "
   ]
  },
  {
   "cell_type": "markdown",
   "metadata": {},
   "source": [
    "From the tables above, we can see there is not a clear overall seasonality pattern over fire incidents, opposite to what we originally expect. \n",
    "\n",
    "When thinking of the reasons behind, we consider that the way of how fire incidents are count may be taken into account. For example, both forest fire and fire alarm will be counted once into the incidence report. However, obviously, those two different type of fire incident have comparably distinctive impact. In order to put off a forest fire, more firefighters have to take part in and meanwhile a lot more resources are consumed.Inevitably, it will cause more over-time payment for the fire department than the incident caused by a false fire alarm.\n",
    "\n",
    "Taking a deeper look into the situation, we can see two incident types display different patterns. First, for ems incident, there is not a clear seasonality over the years which denotes that the cooperation between fire department and other government department remains relatively constant over the months. Second, for non-ems situation, which reflects about real fire-related situations displays a month-based fluctuations. Non-EMS situations peak at December and January and remain roughly the average in all the other months. The rule revealed from this picture also goes against our original assumption.\n",
    "\n",
    "In conclusion, no matter through the type of incidents or through the month over the years, we do not observe a clear trend as we expected. We raise one possible explanation here as the count of incidents can not be a true reflection about the workload of the fire department.For example, in some particular month, there may happens severe fire situations occasionally while in some other months, more incidents with less impact take place."
   ]
  },
  {
   "cell_type": "markdown",
   "metadata": {},
   "source": [
    "## Performance:"
   ]
  },
  {
   "cell_type": "markdown",
   "metadata": {},
   "source": [
    "All memebers have contributed substantially and made 100% devotion to our project.\n",
    "\n",
    "* Jiaru Xu : Write the draft version of our project, wrangle the dataset,conduct the analysis in part d and bonus part and make some modification about our whole notebook.\n",
    "\n",
    "* Min Yang(Wendy) : Illustrate about the selection of dataset, the conclusion of our analysis,conduct the analysis in part b with Conying, provide some enlightening thoughts with our findings and examine about all the the code and the conclusions.\n",
    "\n",
    "* Congying Ma : Conduct the analysis with Wendy in part b, draw the visualizations in part b and actively participate throughout our project. \n",
    "\n",
    "* Jiaying Liu : Draw our presentation slides and analyze about the year."
   ]
  },
  {
   "cell_type": "code",
   "execution_count": null,
   "metadata": {},
   "outputs": [],
   "source": []
  }
 ],
 "metadata": {
  "kernelspec": {
   "display_name": "Python 3",
   "language": "python",
   "name": "python3"
  },
  "language_info": {
   "codemirror_mode": {
    "name": "ipython",
    "version": 3
   },
   "file_extension": ".py",
   "mimetype": "text/x-python",
   "name": "python",
   "nbconvert_exporter": "python",
   "pygments_lexer": "ipython3",
   "version": "3.6.5"
  }
 },
 "nbformat": 4,
 "nbformat_minor": 2
}
